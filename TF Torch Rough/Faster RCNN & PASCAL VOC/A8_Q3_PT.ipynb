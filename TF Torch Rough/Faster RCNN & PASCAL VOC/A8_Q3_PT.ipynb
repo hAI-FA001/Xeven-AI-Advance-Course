{
 "cells": [
  {
   "cell_type": "code",
   "execution_count": 13,
   "metadata": {},
   "outputs": [],
   "source": [
    "import torchvision\n",
    "\n",
    "dataset = torchvision.datasets.VOCDetection(\n",
    "    root=\"./PASCAL VOC/\", year='2012', image_set='trainval', download=False,\n",
    "    transform=torchvision.transforms.Compose([\n",
    "        torchvision.transforms.Resize(size=(300,300)),\n",
    "        torchvision.transforms.ToTensor(),\n",
    "        torchvision.transforms.Normalize(mean=[127.5, 127.5, 127.5], std=[127.5, 127.5, 127.5]),\n",
    "    ])\n",
    ")"
   ]
  },
  {
   "cell_type": "code",
   "execution_count": 14,
   "metadata": {},
   "outputs": [
    {
     "data": {
      "text/plain": [
       "Dataset VOCDetection\n",
       "    Number of datapoints: 11540\n",
       "    Root location: ./PASCAL VOC/\n",
       "    StandardTransform\n",
       "Transform: Compose(\n",
       "               Resize(size=(300, 300), interpolation=bilinear, max_size=None, antialias=True)\n",
       "               ToTensor()\n",
       "               Normalize(mean=[127.5, 127.5, 127.5], std=[127.5, 127.5, 127.5])\n",
       "           )"
      ]
     },
     "execution_count": 14,
     "metadata": {},
     "output_type": "execute_result"
    }
   ],
   "source": [
    "dataset"
   ]
  },
  {
   "cell_type": "code",
   "execution_count": 10,
   "metadata": {},
   "outputs": [
    {
     "name": "stderr",
     "output_type": "stream",
     "text": [
      "Downloading: \"https://download.pytorch.org/models/fasterrcnn_resnet50_fpn_v2_coco-dd69338a.pth\" to C:\\Users\\PMLS/.cache\\torch\\hub\\checkpoints\\fasterrcnn_resnet50_fpn_v2_coco-dd69338a.pth\n",
      "100%|██████████| 167M/167M [00:48<00:00, 3.64MB/s] \n"
     ]
    }
   ],
   "source": [
    "model = torchvision.models.detection.faster_rcnn.fasterrcnn_resnet50_fpn_v2(weights=torchvision.models.detection.FasterRCNN_ResNet50_FPN_V2_Weights.DEFAULT)\n"
   ]
  },
  {
   "cell_type": "code",
   "execution_count": 11,
   "metadata": {},
   "outputs": [],
   "source": [
    "model.roi_heads.box_predictor = torchvision.models.detection.faster_rcnn.FastRCNNPredictor(\n",
    "    model.roi_heads.box_predictor.cls_score.in_features,\n",
    "    20+1 # +1 for background\n",
    ")"
   ]
  },
  {
   "cell_type": "code",
   "execution_count": 22,
   "metadata": {},
   "outputs": [],
   "source": [
    "import torch\n",
    "\n",
    "\n",
    "dataloader_dataset = torch.utils.data.DataLoader(dataset, batch_size=8, collate_fn=lambda x: x, shuffle=True)"
   ]
  },
  {
   "cell_type": "code",
   "execution_count": 72,
   "metadata": {},
   "outputs": [
    {
     "data": {
      "text/plain": [
       "{'boat': 1,\n",
       " 'sheep': 2,\n",
       " 'diningtable': 3,\n",
       " 'cat': 4,\n",
       " 'cow': 5,\n",
       " 'sofa': 6,\n",
       " 'bicycle': 7,\n",
       " 'pottedplant': 8,\n",
       " 'horse': 9,\n",
       " 'person': 10,\n",
       " 'tvmonitor': 11,\n",
       " 'aeroplane': 12,\n",
       " 'train': 13,\n",
       " 'dog': 14,\n",
       " 'chair': 15,\n",
       " 'bird': 16,\n",
       " 'car': 17,\n",
       " 'bus': 18,\n",
       " 'motorbike': 19,\n",
       " 'bottle': 20}"
      ]
     },
     "execution_count": 72,
     "metadata": {},
     "output_type": "execute_result"
    }
   ],
   "source": [
    "import os\n",
    "\n",
    "# need to convert classname which is string to integer for training\n",
    "classes = set([f.split('_')[0] for f in os.listdir(f\"{dataset.root}/VOCdevkit/VOC2012/ImageSets/Main/\") if '_' in f])\n",
    "classes = list(classes)\n",
    "class_to_index = {class_:i for i, class_ in enumerate(classes, start=1)}\n",
    "class_to_index"
   ]
  },
  {
   "cell_type": "code",
   "execution_count": 91,
   "metadata": {},
   "outputs": [
    {
     "name": "stdout",
     "output_type": "stream",
     "text": [
      "Epoch 1\n",
      "\t- Step 1/181\n",
      "Loss: 4.924716949462891\n",
      "\n"
     ]
    }
   ],
   "source": [
    "import torch\n",
    "import numpy as np\n",
    "\n",
    "\n",
    "opt = torch.optim.SGD(params=model.parameters())\n",
    "\n",
    "n_epochs = 1\n",
    "total_steps = np.int64(np.floor(len(dataloader_dataset) / dataloader_dataset.batch_size) + 1)\n",
    "for epoch in range(n_epochs):\n",
    "    loss_per_epoch = 0\n",
    "    print(f\"Epoch {epoch+1}/{n_epochs}\")\n",
    "    for i, data in enumerate(dataloader_dataset, start=1):\n",
    "        print(f\"\\t- Step {i}/{total_steps}\")\n",
    "        X = []\n",
    "        y = []\n",
    "        for d in data:\n",
    "            X.append(d[0])\n",
    "            # take first object label by indexing 0\n",
    "            objs = d[1]['annotation']['object']\n",
    "            bboxes = []\n",
    "            labels = []\n",
    "            for i in range(len(objs)):\n",
    "                bbox_dict = objs[i]['bndbox']\n",
    "                # must be in this order or height/width may be negative due to wrong order\n",
    "                bbox = [int(bbox_dict[key]) for key in ['xmin', 'ymin', 'xmax', 'ymax']]\n",
    "                bboxes.append(bbox)\n",
    "\n",
    "                label = objs[i]['name']\n",
    "                label = class_to_index[label]\n",
    "                labels.append(label)\n",
    "                \n",
    "            bboxes = torch.as_tensor(bboxes, dtype=torch.int64)\n",
    "            labels = torch.as_tensor(labels, dtype=torch.int64)\n",
    "            y.append({\n",
    "                'boxes': bboxes,\n",
    "                'labels': labels,\n",
    "            })\n",
    "        \n",
    "        loss_dict = model(X, y)\n",
    "        loss = sum(v for v in loss_dict.values())\n",
    "        loss_per_epoch += loss\n",
    "        \n",
    "        opt.zero_grad()\n",
    "        loss.backward()\n",
    "        opt.step()\n",
    "        break\n",
    "    print(f\"Loss: {loss_per_epoch}\")\n",
    "    print()\n",
    "    break"
   ]
  },
  {
   "cell_type": "code",
   "execution_count": 137,
   "metadata": {},
   "outputs": [],
   "source": [
    "model.eval()\n",
    "\n",
    "for batch in dataloader_dataset:\n",
    "    d = batch[0]\n",
    "    img = d[0]\n",
    "    # add batch dimension: (3,300,300) -> (1,3,300,300)\n",
    "    img = np.expand_dims(img, axis=0)\n",
    "    img = torch.from_numpy(img)\n",
    "\n",
    "    objs = d[1]['annotation']['object']\n",
    "    bboxes = []\n",
    "    labels = []\n",
    "    for i in range(len(objs)):\n",
    "        bbox_dict = objs[i]['bndbox']\n",
    "        bbox = [int(bbox_dict[key]) for key in ['xmin', 'ymin', 'xmax', 'ymax']]\n",
    "        bboxes.append(bbox)\n",
    "\n",
    "        label = objs[i]['name']\n",
    "        label = class_to_index[label]\n",
    "        labels.append(label)\n",
    "        \n",
    "    bboxes = torch.as_tensor(bboxes, dtype=torch.int64)\n",
    "    labels = torch.as_tensor(labels, dtype=torch.int64)\n",
    "    break"
   ]
  },
  {
   "cell_type": "code",
   "execution_count": 106,
   "metadata": {},
   "outputs": [
    {
     "data": {
      "text/plain": [
       "[{'boxes': tensor([[3.0004e+01, 2.9835e+02, 9.1283e+01, 3.0000e+02],\n",
       "          [1.9040e+02, 2.9842e+02, 2.5421e+02, 3.0000e+02],\n",
       "          [6.8908e+01, 2.9842e+02, 1.3257e+02, 3.0000e+02],\n",
       "          [1.3494e+02, 2.9842e+02, 1.9856e+02, 3.0000e+02],\n",
       "          [1.0794e+02, 2.9842e+02, 1.7157e+02, 3.0000e+02],\n",
       "          [1.6193e+02, 2.9842e+02, 2.2557e+02, 3.0000e+02],\n",
       "          [1.4511e-01, 2.8413e+02, 1.3287e+01, 3.0000e+02],\n",
       "          [2.1369e+02, 2.9818e+02, 2.7307e+02, 3.0000e+02],\n",
       "          [1.4533e+00, 2.7946e+02, 2.1947e+01, 2.9901e+02],\n",
       "          [0.0000e+00, 2.7450e+02, 9.7799e+00, 2.9895e+02],\n",
       "          [6.7298e-02, 2.7475e+02, 3.4308e+01, 2.9929e+02],\n",
       "          [0.0000e+00, 2.5985e+02, 1.9412e+01, 2.9651e+02],\n",
       "          [3.4232e-02, 2.5114e+02, 3.0434e+01, 2.9811e+02],\n",
       "          [2.4701e+02, 2.6910e+02, 2.9565e+02, 2.9784e+02],\n",
       "          [0.0000e+00, 5.7069e+01, 8.3958e+01, 1.4363e+02],\n",
       "          [4.0032e-01, 5.7685e+01, 7.4772e+01, 9.9499e+01],\n",
       "          [4.5953e+01, 2.1070e+02, 2.0261e+02, 2.7062e+02],\n",
       "          [2.6590e+02, 5.1186e+01, 3.0000e+02, 1.1529e+02],\n",
       "          [2.4028e+02, 3.9114e+00, 2.9956e+02, 5.7595e+01],\n",
       "          [0.0000e+00, 2.8367e+02, 7.1954e+01, 3.0000e+02],\n",
       "          [3.3102e+01, 1.4762e+02, 1.6022e+02, 2.7429e+02],\n",
       "          [2.3184e+02, 2.8412e+02, 2.9282e+02, 3.0000e+02],\n",
       "          [1.0834e+02, 4.4867e+01, 2.7780e+02, 1.0271e+02],\n",
       "          [1.4243e+02, 2.8588e+02, 2.5348e+02, 2.9994e+02],\n",
       "          [1.0053e+02, 2.8586e+02, 2.1139e+02, 2.9995e+02],\n",
       "          [5.2616e+01, 2.8587e+02, 1.6331e+02, 2.9996e+02],\n",
       "          [2.3716e+02, 4.9071e+01, 3.0000e+02, 1.0803e+02],\n",
       "          [2.3937e+02, 2.0811e+01, 3.0000e+02, 7.6443e+01],\n",
       "          [2.6600e+02, 2.8896e+01, 3.0000e+02, 9.2094e+01],\n",
       "          [1.1718e+02, 2.1097e+02, 2.7456e+02, 2.7072e+02],\n",
       "          [0.0000e+00, 1.8929e+02, 8.1139e+01, 2.6966e+02],\n",
       "          [0.0000e+00, 1.1704e+02, 8.3437e+01, 2.0194e+02],\n",
       "          [9.7596e-01, 2.1379e+02, 7.3672e+01, 2.5547e+02],\n",
       "          [2.5243e+02, 2.1020e+02, 3.0000e+02, 2.5719e+02],\n",
       "          [2.6593e+02, 1.3405e+02, 3.0000e+02, 1.9955e+02],\n",
       "          [2.6592e+02, 1.7002e+02, 3.0000e+02, 2.3554e+02],\n",
       "          [2.6593e+02, 1.1006e+02, 3.0000e+02, 1.7554e+02],\n",
       "          [2.6593e+02, 8.0048e+01, 3.0000e+02, 1.4554e+02],\n",
       "          [2.3604e+01, 2.9165e+02, 9.3343e+01, 2.9993e+02],\n",
       "          [3.3272e+01, 6.3639e+01, 1.6203e+02, 1.9424e+02],\n",
       "          [2.0018e+02, 2.9147e+02, 2.6876e+02, 2.9993e+02],\n",
       "          [2.5126e+02, 1.6138e+02, 3.0000e+02, 2.0988e+02],\n",
       "          [2.2243e+02, 5.6684e+01, 3.0000e+02, 1.4249e+02],\n",
       "          [1.0650e+01, 5.3052e+01, 1.1999e+02, 1.1219e+02],\n",
       "          [6.1288e-01, 1.4138e+02, 7.5072e+01, 1.8387e+02],\n",
       "          [5.5791e-01, 1.5933e+02, 7.5015e+01, 2.0191e+02],\n",
       "          [1.5224e+02, 6.3818e+01, 2.8226e+02, 1.2368e+02],\n",
       "          [1.9255e+02, 2.2182e+02, 2.4628e+02, 2.7143e+02],\n",
       "          [6.9002e-01, 1.1746e+02, 7.5086e+01, 1.5978e+02],\n",
       "          [6.2989e-01, 8.7422e+01, 7.5152e+01, 1.2980e+02],\n",
       "          [1.0978e+02, 1.5297e+02, 2.4524e+02, 2.8990e+02],\n",
       "          [2.0566e+00, 1.5821e+02, 1.0899e+02, 2.6017e+02],\n",
       "          [0.0000e+00, 4.1515e+01, 4.7215e+01, 1.8991e+02],\n",
       "          [4.6862e-01, 1.8329e+02, 7.5056e+01, 2.2593e+02],\n",
       "          [5.3404e+01, 2.9199e+02, 1.2657e+02, 2.9993e+02],\n",
       "          [2.2145e+02, 2.2689e+02, 2.7761e+02, 2.7879e+02],\n",
       "          [5.4509e+01, 2.2187e+02, 1.0824e+02, 2.7146e+02],\n",
       "          [3.0126e+01, 2.2239e+02, 8.4061e+01, 2.7199e+02],\n",
       "          [1.5143e+02, 1.7336e+02, 2.8162e+02, 2.3299e+02],\n",
       "          [1.5194e+02, 1.1331e+02, 2.8137e+02, 1.7280e+02],\n",
       "          [1.5186e+02, 1.3719e+02, 2.8133e+02, 1.9679e+02],\n",
       "          [1.9722e+01, 1.1062e+02, 1.4495e+02, 2.3498e+02],\n",
       "          [2.5168e+02, 2.7279e+02, 2.7603e+02, 2.9578e+02],\n",
       "          [0.0000e+00, 2.6471e+02, 5.5510e+00, 2.9599e+02],\n",
       "          [1.5468e+02, 1.9964e+02, 2.7952e+02, 2.5567e+02],\n",
       "          [1.6438e+02, 2.9199e+02, 2.3765e+02, 2.9991e+02],\n",
       "          [1.5199e+02, 8.9233e+01, 2.8136e+02, 1.4884e+02],\n",
       "          [2.4079e+02, 2.7763e+02, 2.6306e+02, 2.9763e+02],\n",
       "          [1.2916e+02, 4.6056e+01, 2.6595e+02, 1.8728e+02],\n",
       "          [2.6693e+02, 1.4632e+02, 2.9875e+02, 2.0522e+02],\n",
       "          [2.6692e+02, 1.7028e+02, 2.9876e+02, 2.2923e+02],\n",
       "          [2.6693e+02, 1.1032e+02, 2.9875e+02, 1.6923e+02],\n",
       "          [2.6693e+02, 8.0286e+01, 2.9875e+02, 1.3923e+02],\n",
       "          [2.3642e+02, 1.8012e+02, 3.0000e+02, 2.4044e+02],\n",
       "          [0.0000e+00, 2.9259e+02, 6.2855e+01, 3.0000e+02],\n",
       "          [9.5418e+01, 2.9198e+02, 1.6864e+02, 2.9992e+02],\n",
       "          [1.2841e+02, 2.9198e+02, 2.0163e+02, 2.9992e+02],\n",
       "          [2.3870e+00, 8.5568e+01, 1.1080e+02, 1.9032e+02],\n",
       "          [2.3641e+02, 1.0213e+02, 3.0000e+02, 1.6244e+02],\n",
       "          [2.3643e+02, 1.2613e+02, 3.0000e+02, 1.8645e+02],\n",
       "          [2.3226e+02, 2.2789e+02, 2.9280e+02, 2.6085e+02],\n",
       "          [2.1295e+02, 2.3847e+01, 2.9946e+02, 1.0175e+02],\n",
       "          [0.0000e+00, 1.5103e+02, 7.0631e+01, 2.3791e+02],\n",
       "          [2.5614e+01, 6.3277e+01, 1.5368e+02, 1.2374e+02],\n",
       "          [2.1683e+02, 5.3947e+01, 2.9291e+02, 9.1059e+01],\n",
       "          [2.6688e+02, 2.0112e+02, 2.9867e+02, 2.5888e+02],\n",
       "          [2.3938e+02, 2.9826e+02, 2.9976e+02, 3.0000e+02],\n",
       "          [1.5259e+02, 1.4940e+02, 2.7520e+02, 2.7451e+02],\n",
       "          [1.2891e+02, 1.0597e+02, 2.6609e+02, 2.4791e+02],\n",
       "          [2.1697e+02, 2.0929e+02, 2.7156e+02, 2.6072e+02],\n",
       "          [2.3279e+02, 1.3285e+02, 2.9551e+02, 1.8701e+02],\n",
       "          [6.0072e+00, 2.5753e+02, 2.2363e+02, 2.9930e+02],\n",
       "          [2.3074e+02, 7.7164e+01, 2.9413e+02, 1.1159e+02],\n",
       "          [2.3069e+02, 8.9148e+01, 2.9414e+02, 1.2363e+02],\n",
       "          [2.3073e+02, 1.1311e+02, 2.9417e+02, 1.4761e+02],\n",
       "          [2.3065e+02, 1.0110e+02, 2.9420e+02, 1.3568e+02],\n",
       "          [2.3069e+02, 1.6710e+02, 2.9421e+02, 2.0164e+02],\n",
       "          [2.1627e+02, 7.1005e+01, 2.9251e+02, 1.0962e+02],\n",
       "          [2.3074e+02, 1.7910e+02, 2.9419e+02, 2.1363e+02],\n",
       "          [1.3096e+01, 1.8597e+02, 1.1929e+02, 2.4597e+02]],\n",
       "         grad_fn=<StackBackward0>),\n",
       "  'labels': tensor([ 8,  8,  8,  8,  8,  8, 11,  8, 11, 11, 11, 11, 11, 11, 16, 16, 16, 16,\n",
       "          16, 11, 16, 11, 16, 11, 11, 11, 16, 16, 16, 16, 16, 16, 16, 16, 16, 16,\n",
       "          16, 16, 11, 16, 11, 16, 16, 16, 16, 16, 16, 16, 16, 16, 16, 16, 16, 16,\n",
       "          11, 16, 16, 16, 16, 16, 16, 16, 11, 11, 16, 11, 16, 11, 16,  1,  1,  1,\n",
       "           1, 16, 11, 11, 11, 16, 16, 16,  1, 16, 16, 16, 16,  1,  8, 16, 16, 16,\n",
       "           1, 16,  1,  1,  1,  1,  1, 16,  1, 16]),\n",
       "  'scores': tensor([0.0889, 0.0887, 0.0882, 0.0881, 0.0881, 0.0881, 0.0880, 0.0879, 0.0849,\n",
       "          0.0797, 0.0797, 0.0796, 0.0770, 0.0761, 0.0743, 0.0740, 0.0740, 0.0739,\n",
       "          0.0738, 0.0737, 0.0736, 0.0736, 0.0734, 0.0732, 0.0732, 0.0731, 0.0731,\n",
       "          0.0731, 0.0731, 0.0730, 0.0728, 0.0725, 0.0725, 0.0724, 0.0724, 0.0724,\n",
       "          0.0724, 0.0724, 0.0722, 0.0722, 0.0721, 0.0720, 0.0720, 0.0718, 0.0718,\n",
       "          0.0718, 0.0717, 0.0717, 0.0717, 0.0716, 0.0716, 0.0715, 0.0715, 0.0715,\n",
       "          0.0715, 0.0715, 0.0714, 0.0714, 0.0714, 0.0714, 0.0713, 0.0713, 0.0713,\n",
       "          0.0713, 0.0713, 0.0713, 0.0713, 0.0712, 0.0712, 0.0711, 0.0711, 0.0711,\n",
       "          0.0711, 0.0711, 0.0711, 0.0710, 0.0710, 0.0710, 0.0710, 0.0710, 0.0710,\n",
       "          0.0710, 0.0709, 0.0709, 0.0709, 0.0708, 0.0708, 0.0708, 0.0708, 0.0708,\n",
       "          0.0708, 0.0707, 0.0707, 0.0707, 0.0707, 0.0707, 0.0707, 0.0706, 0.0706,\n",
       "          0.0706], grad_fn=<IndexBackward0>)}]"
      ]
     },
     "execution_count": 106,
     "metadata": {},
     "output_type": "execute_result"
    }
   ],
   "source": [
    "pred = model(img)\n",
    "pred"
   ]
  },
  {
   "cell_type": "code",
   "execution_count": 112,
   "metadata": {},
   "outputs": [],
   "source": [
    "pred_boxes = torchvision.ops.nms(pred[0]['boxes'], pred[0]['scores'], 0.5)"
   ]
  },
  {
   "cell_type": "code",
   "execution_count": 129,
   "metadata": {},
   "outputs": [],
   "source": [
    "display_img = img[0].permute(1,2,0).detach().numpy()\n",
    "display_img = (display_img + 127.5) * 127.5\n",
    "display_img = display_img.astype('uint8')"
   ]
  },
  {
   "cell_type": "code",
   "execution_count": 146,
   "metadata": {},
   "outputs": [
    {
     "ename": "ModuleNotFoundError",
     "evalue": "No module named 'regex._regex'",
     "output_type": "error",
     "traceback": [
      "\u001b[1;31m---------------------------------------------------------------------------\u001b[0m",
      "\u001b[1;31mModuleNotFoundError\u001b[0m                       Traceback (most recent call last)",
      "Cell \u001b[1;32mIn[146], line 1\u001b[0m\n\u001b[1;32m----> 1\u001b[0m \u001b[38;5;28;01mfrom\u001b[39;00m \u001b[38;5;21;01mtorchmetrics\u001b[39;00m\u001b[38;5;21;01m.\u001b[39;00m\u001b[38;5;21;01mdetection\u001b[39;00m \u001b[38;5;28;01mimport\u001b[39;00m MeanAveragePrecision\n\u001b[0;32m      3\u001b[0m mAP \u001b[38;5;241m=\u001b[39m MeanAveragePrecision(iou_type\u001b[38;5;241m=\u001b[39m\u001b[38;5;124m'\u001b[39m\u001b[38;5;124mbbox\u001b[39m\u001b[38;5;124m'\u001b[39m)\n\u001b[0;32m      4\u001b[0m mAP\u001b[38;5;241m.\u001b[39mupdate(\n\u001b[0;32m      5\u001b[0m     \u001b[38;5;28mdict\u001b[39m(\n\u001b[0;32m      6\u001b[0m         boxes\u001b[38;5;241m=\u001b[39mtorch\u001b[38;5;241m.\u001b[39mstack([torch\u001b[38;5;241m.\u001b[39mtensor(box) \u001b[38;5;28;01mfor\u001b[39;00m box \u001b[38;5;129;01min\u001b[39;00m pred_boxes])\u001b[38;5;241m.\u001b[39mastype(torch\u001b[38;5;241m.\u001b[39mfloat32),\n\u001b[1;32m   (...)\u001b[0m\n\u001b[0;32m     13\u001b[0m     )\n\u001b[0;32m     14\u001b[0m )\n",
      "File \u001b[1;32mc:\\dev\\miniconda\\envs\\faiac\\Lib\\site-packages\\torchmetrics\\__init__.py:37\u001b[0m\n\u001b[0;32m     34\u001b[0m     \u001b[38;5;28;01mif\u001b[39;00m \u001b[38;5;129;01mnot\u001b[39;00m \u001b[38;5;28mhasattr\u001b[39m(scipy\u001b[38;5;241m.\u001b[39msignal, \u001b[38;5;124m\"\u001b[39m\u001b[38;5;124mhamming\u001b[39m\u001b[38;5;124m\"\u001b[39m):\n\u001b[0;32m     35\u001b[0m         scipy\u001b[38;5;241m.\u001b[39msignal\u001b[38;5;241m.\u001b[39mhamming \u001b[38;5;241m=\u001b[39m scipy\u001b[38;5;241m.\u001b[39msignal\u001b[38;5;241m.\u001b[39mwindows\u001b[38;5;241m.\u001b[39mhamming\n\u001b[1;32m---> 37\u001b[0m \u001b[38;5;28;01mfrom\u001b[39;00m \u001b[38;5;21;01mtorchmetrics\u001b[39;00m \u001b[38;5;28;01mimport\u001b[39;00m functional  \u001b[38;5;66;03m# noqa: E402\u001b[39;00m\n\u001b[0;32m     38\u001b[0m \u001b[38;5;28;01mfrom\u001b[39;00m \u001b[38;5;21;01mtorchmetrics\u001b[39;00m\u001b[38;5;21;01m.\u001b[39;00m\u001b[38;5;21;01maggregation\u001b[39;00m \u001b[38;5;28;01mimport\u001b[39;00m (  \u001b[38;5;66;03m# noqa: E402\u001b[39;00m\n\u001b[0;32m     39\u001b[0m     CatMetric,\n\u001b[0;32m     40\u001b[0m     MaxMetric,\n\u001b[1;32m   (...)\u001b[0m\n\u001b[0;32m     45\u001b[0m     SumMetric,\n\u001b[0;32m     46\u001b[0m )\n\u001b[0;32m     47\u001b[0m \u001b[38;5;28;01mfrom\u001b[39;00m \u001b[38;5;21;01mtorchmetrics\u001b[39;00m\u001b[38;5;21;01m.\u001b[39;00m\u001b[38;5;21;01maudio\u001b[39;00m\u001b[38;5;21;01m.\u001b[39;00m\u001b[38;5;21;01m_deprecated\u001b[39;00m \u001b[38;5;28;01mimport\u001b[39;00m _PermutationInvariantTraining \u001b[38;5;28;01mas\u001b[39;00m PermutationInvariantTraining  \u001b[38;5;66;03m# noqa: E402\u001b[39;00m\n",
      "File \u001b[1;32mc:\\dev\\miniconda\\envs\\faiac\\Lib\\site-packages\\torchmetrics\\functional\\__init__.py:125\u001b[0m\n\u001b[0;32m    123\u001b[0m \u001b[38;5;28;01mfrom\u001b[39;00m \u001b[38;5;21;01mtorchmetrics\u001b[39;00m\u001b[38;5;21;01m.\u001b[39;00m\u001b[38;5;21;01mfunctional\u001b[39;00m\u001b[38;5;21;01m.\u001b[39;00m\u001b[38;5;21;01mretrieval\u001b[39;00m\u001b[38;5;21;01m.\u001b[39;00m\u001b[38;5;21;01m_deprecated\u001b[39;00m \u001b[38;5;28;01mimport\u001b[39;00m _retrieval_recall \u001b[38;5;28;01mas\u001b[39;00m retrieval_recall\n\u001b[0;32m    124\u001b[0m \u001b[38;5;28;01mfrom\u001b[39;00m \u001b[38;5;21;01mtorchmetrics\u001b[39;00m\u001b[38;5;21;01m.\u001b[39;00m\u001b[38;5;21;01mfunctional\u001b[39;00m\u001b[38;5;21;01m.\u001b[39;00m\u001b[38;5;21;01mretrieval\u001b[39;00m\u001b[38;5;21;01m.\u001b[39;00m\u001b[38;5;21;01m_deprecated\u001b[39;00m \u001b[38;5;28;01mimport\u001b[39;00m _retrieval_reciprocal_rank \u001b[38;5;28;01mas\u001b[39;00m retrieval_reciprocal_rank\n\u001b[1;32m--> 125\u001b[0m \u001b[38;5;28;01mfrom\u001b[39;00m \u001b[38;5;21;01mtorchmetrics\u001b[39;00m\u001b[38;5;21;01m.\u001b[39;00m\u001b[38;5;21;01mfunctional\u001b[39;00m\u001b[38;5;21;01m.\u001b[39;00m\u001b[38;5;21;01mtext\u001b[39;00m\u001b[38;5;21;01m.\u001b[39;00m\u001b[38;5;21;01m_deprecated\u001b[39;00m \u001b[38;5;28;01mimport\u001b[39;00m _bleu_score \u001b[38;5;28;01mas\u001b[39;00m bleu_score\n\u001b[0;32m    126\u001b[0m \u001b[38;5;28;01mfrom\u001b[39;00m \u001b[38;5;21;01mtorchmetrics\u001b[39;00m\u001b[38;5;21;01m.\u001b[39;00m\u001b[38;5;21;01mfunctional\u001b[39;00m\u001b[38;5;21;01m.\u001b[39;00m\u001b[38;5;21;01mtext\u001b[39;00m\u001b[38;5;21;01m.\u001b[39;00m\u001b[38;5;21;01m_deprecated\u001b[39;00m \u001b[38;5;28;01mimport\u001b[39;00m _char_error_rate \u001b[38;5;28;01mas\u001b[39;00m char_error_rate\n\u001b[0;32m    127\u001b[0m \u001b[38;5;28;01mfrom\u001b[39;00m \u001b[38;5;21;01mtorchmetrics\u001b[39;00m\u001b[38;5;21;01m.\u001b[39;00m\u001b[38;5;21;01mfunctional\u001b[39;00m\u001b[38;5;21;01m.\u001b[39;00m\u001b[38;5;21;01mtext\u001b[39;00m\u001b[38;5;21;01m.\u001b[39;00m\u001b[38;5;21;01m_deprecated\u001b[39;00m \u001b[38;5;28;01mimport\u001b[39;00m _chrf_score \u001b[38;5;28;01mas\u001b[39;00m chrf_score\n",
      "File \u001b[1;32mc:\\dev\\miniconda\\envs\\faiac\\Lib\\site-packages\\torchmetrics\\functional\\text\\__init__.py:23\u001b[0m\n\u001b[0;32m     21\u001b[0m \u001b[38;5;28;01mfrom\u001b[39;00m \u001b[38;5;21;01mtorchmetrics\u001b[39;00m\u001b[38;5;21;01m.\u001b[39;00m\u001b[38;5;21;01mfunctional\u001b[39;00m\u001b[38;5;21;01m.\u001b[39;00m\u001b[38;5;21;01mtext\u001b[39;00m\u001b[38;5;21;01m.\u001b[39;00m\u001b[38;5;21;01mperplexity\u001b[39;00m \u001b[38;5;28;01mimport\u001b[39;00m perplexity\n\u001b[0;32m     22\u001b[0m \u001b[38;5;28;01mfrom\u001b[39;00m \u001b[38;5;21;01mtorchmetrics\u001b[39;00m\u001b[38;5;21;01m.\u001b[39;00m\u001b[38;5;21;01mfunctional\u001b[39;00m\u001b[38;5;21;01m.\u001b[39;00m\u001b[38;5;21;01mtext\u001b[39;00m\u001b[38;5;21;01m.\u001b[39;00m\u001b[38;5;21;01mrouge\u001b[39;00m \u001b[38;5;28;01mimport\u001b[39;00m rouge_score\n\u001b[1;32m---> 23\u001b[0m \u001b[38;5;28;01mfrom\u001b[39;00m \u001b[38;5;21;01mtorchmetrics\u001b[39;00m\u001b[38;5;21;01m.\u001b[39;00m\u001b[38;5;21;01mfunctional\u001b[39;00m\u001b[38;5;21;01m.\u001b[39;00m\u001b[38;5;21;01mtext\u001b[39;00m\u001b[38;5;21;01m.\u001b[39;00m\u001b[38;5;21;01msacre_bleu\u001b[39;00m \u001b[38;5;28;01mimport\u001b[39;00m sacre_bleu_score\n\u001b[0;32m     24\u001b[0m \u001b[38;5;28;01mfrom\u001b[39;00m \u001b[38;5;21;01mtorchmetrics\u001b[39;00m\u001b[38;5;21;01m.\u001b[39;00m\u001b[38;5;21;01mfunctional\u001b[39;00m\u001b[38;5;21;01m.\u001b[39;00m\u001b[38;5;21;01mtext\u001b[39;00m\u001b[38;5;21;01m.\u001b[39;00m\u001b[38;5;21;01msquad\u001b[39;00m \u001b[38;5;28;01mimport\u001b[39;00m squad\n\u001b[0;32m     25\u001b[0m \u001b[38;5;28;01mfrom\u001b[39;00m \u001b[38;5;21;01mtorchmetrics\u001b[39;00m\u001b[38;5;21;01m.\u001b[39;00m\u001b[38;5;21;01mfunctional\u001b[39;00m\u001b[38;5;21;01m.\u001b[39;00m\u001b[38;5;21;01mtext\u001b[39;00m\u001b[38;5;21;01m.\u001b[39;00m\u001b[38;5;21;01mter\u001b[39;00m \u001b[38;5;28;01mimport\u001b[39;00m translation_edit_rate\n",
      "File \u001b[1;32mc:\\dev\\miniconda\\envs\\faiac\\Lib\\site-packages\\torchmetrics\\functional\\text\\sacre_bleu.py:99\u001b[0m\n\u001b[0;32m     92\u001b[0m \u001b[38;5;66;03m# Model paths copied from https://github.com/mjpost/sacrebleu/blob/master/sacrebleu/tokenizers/tokenizer_spm.py.\u001b[39;00m\n\u001b[0;32m     93\u001b[0m _FLORES_MODELS_URL \u001b[38;5;241m=\u001b[39m {\n\u001b[0;32m     94\u001b[0m     \u001b[38;5;124m\"\u001b[39m\u001b[38;5;124mflores101\u001b[39m\u001b[38;5;124m\"\u001b[39m: \u001b[38;5;124m\"\u001b[39m\u001b[38;5;124mhttps://dl.fbaipublicfiles.com/fairseq/models/flores/sacrebleu_tokenizer_spm.model\u001b[39m\u001b[38;5;124m\"\u001b[39m,\n\u001b[0;32m     95\u001b[0m     \u001b[38;5;124m\"\u001b[39m\u001b[38;5;124mflores200\u001b[39m\u001b[38;5;124m\"\u001b[39m: \u001b[38;5;124m\"\u001b[39m\u001b[38;5;124mhttps://tinyurl.com/flores200sacrebleuspm\u001b[39m\u001b[38;5;124m\"\u001b[39m,\n\u001b[0;32m     96\u001b[0m }\n\u001b[1;32m---> 99\u001b[0m \u001b[38;5;28;01mclass\u001b[39;00m \u001b[38;5;21;01m_SacreBLEUTokenizer\u001b[39;00m:\n\u001b[0;32m    100\u001b[0m \u001b[38;5;250m    \u001b[39m\u001b[38;5;124;03m\"\"\"Tokenizer used for SacreBLEU calculation.\u001b[39;00m\n\u001b[0;32m    101\u001b[0m \n\u001b[0;32m    102\u001b[0m \u001b[38;5;124;03m    Source: https://github.com/mjpost/sacrebleu/tree/master/sacrebleu/tokenizers\u001b[39;00m\n\u001b[0;32m    103\u001b[0m \n\u001b[0;32m    104\u001b[0m \u001b[38;5;124;03m    \"\"\"\u001b[39;00m\n\u001b[0;32m    106\u001b[0m     _REGEX \u001b[38;5;241m=\u001b[39m (\n\u001b[0;32m    107\u001b[0m         \u001b[38;5;66;03m# language-dependent part (assuming Western languages)\u001b[39;00m\n\u001b[0;32m    108\u001b[0m         (re\u001b[38;5;241m.\u001b[39mcompile(\u001b[38;5;124mr\u001b[39m\u001b[38;5;124m\"\u001b[39m\u001b[38;5;124m([\u001b[39m\u001b[38;5;124m\\\u001b[39m\u001b[38;5;124m{\u001b[39m\u001b[38;5;124m-\u001b[39m\u001b[38;5;124m\\\u001b[39m\u001b[38;5;124m~\u001b[39m\u001b[38;5;124m\\\u001b[39m\u001b[38;5;124m[-\u001b[39m\u001b[38;5;124m\\\u001b[39m\u001b[38;5;124m` -\u001b[39m\u001b[38;5;124m\\\u001b[39m\u001b[38;5;124m&\u001b[39m\u001b[38;5;124m\\\u001b[39m\u001b[38;5;124m(-\u001b[39m\u001b[38;5;124m\\\u001b[39m\u001b[38;5;124m+\u001b[39m\u001b[38;5;124m\\\u001b[39m\u001b[38;5;124m:-\u001b[39m\u001b[38;5;124m\\\u001b[39m\u001b[38;5;124m@\u001b[39m\u001b[38;5;124m\\\u001b[39m\u001b[38;5;124m/])\u001b[39m\u001b[38;5;124m\"\u001b[39m), \u001b[38;5;124mr\u001b[39m\u001b[38;5;124m\"\u001b[39m\u001b[38;5;124m \u001b[39m\u001b[38;5;124m\\\u001b[39m\u001b[38;5;124m1 \u001b[39m\u001b[38;5;124m\"\u001b[39m),\n\u001b[1;32m   (...)\u001b[0m\n\u001b[0;32m    117\u001b[0m         \u001b[38;5;66;03m# (re.compile(r'\\s+'), r' '),\u001b[39;00m\n\u001b[0;32m    118\u001b[0m     )\n",
      "File \u001b[1;32mc:\\dev\\miniconda\\envs\\faiac\\Lib\\site-packages\\torchmetrics\\functional\\text\\sacre_bleu.py:121\u001b[0m, in \u001b[0;36m_SacreBLEUTokenizer\u001b[1;34m()\u001b[0m\n\u001b[0;32m    106\u001b[0m _REGEX \u001b[38;5;241m=\u001b[39m (\n\u001b[0;32m    107\u001b[0m     \u001b[38;5;66;03m# language-dependent part (assuming Western languages)\u001b[39;00m\n\u001b[0;32m    108\u001b[0m     (re\u001b[38;5;241m.\u001b[39mcompile(\u001b[38;5;124mr\u001b[39m\u001b[38;5;124m\"\u001b[39m\u001b[38;5;124m([\u001b[39m\u001b[38;5;124m\\\u001b[39m\u001b[38;5;124m{\u001b[39m\u001b[38;5;124m-\u001b[39m\u001b[38;5;124m\\\u001b[39m\u001b[38;5;124m~\u001b[39m\u001b[38;5;124m\\\u001b[39m\u001b[38;5;124m[-\u001b[39m\u001b[38;5;124m\\\u001b[39m\u001b[38;5;124m` -\u001b[39m\u001b[38;5;124m\\\u001b[39m\u001b[38;5;124m&\u001b[39m\u001b[38;5;124m\\\u001b[39m\u001b[38;5;124m(-\u001b[39m\u001b[38;5;124m\\\u001b[39m\u001b[38;5;124m+\u001b[39m\u001b[38;5;124m\\\u001b[39m\u001b[38;5;124m:-\u001b[39m\u001b[38;5;124m\\\u001b[39m\u001b[38;5;124m@\u001b[39m\u001b[38;5;124m\\\u001b[39m\u001b[38;5;124m/])\u001b[39m\u001b[38;5;124m\"\u001b[39m), \u001b[38;5;124mr\u001b[39m\u001b[38;5;124m\"\u001b[39m\u001b[38;5;124m \u001b[39m\u001b[38;5;124m\\\u001b[39m\u001b[38;5;124m1 \u001b[39m\u001b[38;5;124m\"\u001b[39m),\n\u001b[1;32m   (...)\u001b[0m\n\u001b[0;32m    117\u001b[0m     \u001b[38;5;66;03m# (re.compile(r'\\s+'), r' '),\u001b[39;00m\n\u001b[0;32m    118\u001b[0m )\n\u001b[0;32m    120\u001b[0m \u001b[38;5;28;01mif\u001b[39;00m _REGEX_AVAILABLE:\n\u001b[1;32m--> 121\u001b[0m     \u001b[38;5;28;01mimport\u001b[39;00m \u001b[38;5;21;01mregex\u001b[39;00m\n\u001b[0;32m    123\u001b[0m     _INT_REGEX \u001b[38;5;241m=\u001b[39m (\n\u001b[0;32m    124\u001b[0m         \u001b[38;5;66;03m# Separate out punctuations preceded by a non-digit\u001b[39;00m\n\u001b[0;32m    125\u001b[0m         (regex\u001b[38;5;241m.\u001b[39mcompile(\u001b[38;5;124mr\u001b[39m\u001b[38;5;124m\"\u001b[39m\u001b[38;5;124m(\u001b[39m\u001b[38;5;124m\\\u001b[39m\u001b[38;5;124mP\u001b[39m\u001b[38;5;132;01m{N}\u001b[39;00m\u001b[38;5;124m)(\u001b[39m\u001b[38;5;124m\\\u001b[39m\u001b[38;5;124mp\u001b[39m\u001b[38;5;132;01m{P}\u001b[39;00m\u001b[38;5;124m)\u001b[39m\u001b[38;5;124m\"\u001b[39m), \u001b[38;5;124mr\u001b[39m\u001b[38;5;124m\"\u001b[39m\u001b[38;5;124m\\\u001b[39m\u001b[38;5;124m1 \u001b[39m\u001b[38;5;124m\\\u001b[39m\u001b[38;5;124m2 \u001b[39m\u001b[38;5;124m\"\u001b[39m),\n\u001b[1;32m   (...)\u001b[0m\n\u001b[0;32m    129\u001b[0m         (regex\u001b[38;5;241m.\u001b[39mcompile(\u001b[38;5;124mr\u001b[39m\u001b[38;5;124m\"\u001b[39m\u001b[38;5;124m(\u001b[39m\u001b[38;5;124m\\\u001b[39m\u001b[38;5;124mp\u001b[39m\u001b[38;5;132;01m{S}\u001b[39;00m\u001b[38;5;124m)\u001b[39m\u001b[38;5;124m\"\u001b[39m), \u001b[38;5;124mr\u001b[39m\u001b[38;5;124m\"\u001b[39m\u001b[38;5;124m \u001b[39m\u001b[38;5;124m\\\u001b[39m\u001b[38;5;124m1 \u001b[39m\u001b[38;5;124m\"\u001b[39m),\n\u001b[0;32m    130\u001b[0m     )\n\u001b[0;32m    132\u001b[0m _TOKENIZE_FN: ClassVar[\u001b[38;5;28mdict\u001b[39m] \u001b[38;5;241m=\u001b[39m {\n\u001b[0;32m    133\u001b[0m     \u001b[38;5;124m\"\u001b[39m\u001b[38;5;124mnone\u001b[39m\u001b[38;5;124m\"\u001b[39m: \u001b[38;5;124m\"\u001b[39m\u001b[38;5;124m_tokenize_base\u001b[39m\u001b[38;5;124m\"\u001b[39m,\n\u001b[0;32m    134\u001b[0m     \u001b[38;5;124m\"\u001b[39m\u001b[38;5;124m13a\u001b[39m\u001b[38;5;124m\"\u001b[39m: \u001b[38;5;124m\"\u001b[39m\u001b[38;5;124m_tokenize_13a\u001b[39m\u001b[38;5;124m\"\u001b[39m,\n\u001b[1;32m   (...)\u001b[0m\n\u001b[0;32m    141\u001b[0m     \u001b[38;5;124m\"\u001b[39m\u001b[38;5;124mflores200\u001b[39m\u001b[38;5;124m\"\u001b[39m: \u001b[38;5;124m\"\u001b[39m\u001b[38;5;124m_tokenize_flores_200\u001b[39m\u001b[38;5;124m\"\u001b[39m,\n\u001b[0;32m    142\u001b[0m }\n",
      "File \u001b[1;32mc:\\dev\\miniconda\\envs\\faiac\\Lib\\site-packages\\regex\\__init__.py:1\u001b[0m\n\u001b[1;32m----> 1\u001b[0m \u001b[38;5;28;01mfrom\u001b[39;00m \u001b[38;5;21;01m.\u001b[39;00m\u001b[38;5;21;01mregex\u001b[39;00m \u001b[38;5;28;01mimport\u001b[39;00m \u001b[38;5;241m*\u001b[39m\n\u001b[0;32m      2\u001b[0m \u001b[38;5;28;01mfrom\u001b[39;00m \u001b[38;5;21;01m.\u001b[39;00m \u001b[38;5;28;01mimport\u001b[39;00m regex\n\u001b[0;32m      3\u001b[0m __all__ \u001b[38;5;241m=\u001b[39m regex\u001b[38;5;241m.\u001b[39m__all__\n",
      "File \u001b[1;32mc:\\dev\\miniconda\\envs\\faiac\\Lib\\site-packages\\regex\\regex.py:417\u001b[0m\n\u001b[0;32m    412\u001b[0m     \u001b[38;5;28;01mreturn\u001b[39;00m r\n\u001b[0;32m    414\u001b[0m \u001b[38;5;66;03m# --------------------------------------------------------------------\u001b[39;00m\n\u001b[0;32m    415\u001b[0m \u001b[38;5;66;03m# Internals.\u001b[39;00m\n\u001b[1;32m--> 417\u001b[0m \u001b[38;5;28;01mimport\u001b[39;00m \u001b[38;5;21;01mregex\u001b[39;00m\u001b[38;5;21;01m.\u001b[39;00m\u001b[38;5;21;01m_regex_core\u001b[39;00m \u001b[38;5;28;01mas\u001b[39;00m \u001b[38;5;21;01m_regex_core\u001b[39;00m\n\u001b[0;32m    418\u001b[0m \u001b[38;5;28;01mimport\u001b[39;00m \u001b[38;5;21;01mregex\u001b[39;00m\u001b[38;5;21;01m.\u001b[39;00m\u001b[38;5;21;01m_regex\u001b[39;00m \u001b[38;5;28;01mas\u001b[39;00m \u001b[38;5;21;01m_regex\u001b[39;00m\n\u001b[0;32m    419\u001b[0m \u001b[38;5;28;01mfrom\u001b[39;00m \u001b[38;5;21;01mthreading\u001b[39;00m \u001b[38;5;28;01mimport\u001b[39;00m RLock \u001b[38;5;28;01mas\u001b[39;00m _RLock\n",
      "File \u001b[1;32mc:\\dev\\miniconda\\envs\\faiac\\Lib\\site-packages\\regex\\_regex_core.py:21\u001b[0m\n\u001b[0;32m     18\u001b[0m \u001b[38;5;28;01mimport\u001b[39;00m \u001b[38;5;21;01municodedata\u001b[39;00m\n\u001b[0;32m     19\u001b[0m \u001b[38;5;28;01mfrom\u001b[39;00m \u001b[38;5;21;01mcollections\u001b[39;00m \u001b[38;5;28;01mimport\u001b[39;00m defaultdict\n\u001b[1;32m---> 21\u001b[0m \u001b[38;5;28;01mimport\u001b[39;00m \u001b[38;5;21;01mregex\u001b[39;00m\u001b[38;5;21;01m.\u001b[39;00m\u001b[38;5;21;01m_regex\u001b[39;00m \u001b[38;5;28;01mas\u001b[39;00m \u001b[38;5;21;01m_regex\u001b[39;00m\n\u001b[0;32m     23\u001b[0m __all__ \u001b[38;5;241m=\u001b[39m [\u001b[38;5;124m\"\u001b[39m\u001b[38;5;124mA\u001b[39m\u001b[38;5;124m\"\u001b[39m, \u001b[38;5;124m\"\u001b[39m\u001b[38;5;124mASCII\u001b[39m\u001b[38;5;124m\"\u001b[39m, \u001b[38;5;124m\"\u001b[39m\u001b[38;5;124mB\u001b[39m\u001b[38;5;124m\"\u001b[39m, \u001b[38;5;124m\"\u001b[39m\u001b[38;5;124mBESTMATCH\u001b[39m\u001b[38;5;124m\"\u001b[39m, \u001b[38;5;124m\"\u001b[39m\u001b[38;5;124mD\u001b[39m\u001b[38;5;124m\"\u001b[39m, \u001b[38;5;124m\"\u001b[39m\u001b[38;5;124mDEBUG\u001b[39m\u001b[38;5;124m\"\u001b[39m, \u001b[38;5;124m\"\u001b[39m\u001b[38;5;124mE\u001b[39m\u001b[38;5;124m\"\u001b[39m, \u001b[38;5;124m\"\u001b[39m\u001b[38;5;124mENHANCEMATCH\u001b[39m\u001b[38;5;124m\"\u001b[39m,\n\u001b[0;32m     24\u001b[0m   \u001b[38;5;124m\"\u001b[39m\u001b[38;5;124mF\u001b[39m\u001b[38;5;124m\"\u001b[39m, \u001b[38;5;124m\"\u001b[39m\u001b[38;5;124mFULLCASE\u001b[39m\u001b[38;5;124m\"\u001b[39m, \u001b[38;5;124m\"\u001b[39m\u001b[38;5;124mI\u001b[39m\u001b[38;5;124m\"\u001b[39m, \u001b[38;5;124m\"\u001b[39m\u001b[38;5;124mIGNORECASE\u001b[39m\u001b[38;5;124m\"\u001b[39m, \u001b[38;5;124m\"\u001b[39m\u001b[38;5;124mL\u001b[39m\u001b[38;5;124m\"\u001b[39m, \u001b[38;5;124m\"\u001b[39m\u001b[38;5;124mLOCALE\u001b[39m\u001b[38;5;124m\"\u001b[39m, \u001b[38;5;124m\"\u001b[39m\u001b[38;5;124mM\u001b[39m\u001b[38;5;124m\"\u001b[39m, \u001b[38;5;124m\"\u001b[39m\u001b[38;5;124mMULTILINE\u001b[39m\u001b[38;5;124m\"\u001b[39m, \u001b[38;5;124m\"\u001b[39m\u001b[38;5;124mP\u001b[39m\u001b[38;5;124m\"\u001b[39m,\n\u001b[0;32m     25\u001b[0m   \u001b[38;5;124m\"\u001b[39m\u001b[38;5;124mPOSIX\u001b[39m\u001b[38;5;124m\"\u001b[39m, \u001b[38;5;124m\"\u001b[39m\u001b[38;5;124mR\u001b[39m\u001b[38;5;124m\"\u001b[39m, \u001b[38;5;124m\"\u001b[39m\u001b[38;5;124mREVERSE\u001b[39m\u001b[38;5;124m\"\u001b[39m, \u001b[38;5;124m\"\u001b[39m\u001b[38;5;124mS\u001b[39m\u001b[38;5;124m\"\u001b[39m, \u001b[38;5;124m\"\u001b[39m\u001b[38;5;124mDOTALL\u001b[39m\u001b[38;5;124m\"\u001b[39m, \u001b[38;5;124m\"\u001b[39m\u001b[38;5;124mT\u001b[39m\u001b[38;5;124m\"\u001b[39m, \u001b[38;5;124m\"\u001b[39m\u001b[38;5;124mTEMPLATE\u001b[39m\u001b[38;5;124m\"\u001b[39m, \u001b[38;5;124m\"\u001b[39m\u001b[38;5;124mU\u001b[39m\u001b[38;5;124m\"\u001b[39m, \u001b[38;5;124m\"\u001b[39m\u001b[38;5;124mUNICODE\u001b[39m\u001b[38;5;124m\"\u001b[39m,\n\u001b[0;32m     26\u001b[0m   \u001b[38;5;124m\"\u001b[39m\u001b[38;5;124mV0\u001b[39m\u001b[38;5;124m\"\u001b[39m, \u001b[38;5;124m\"\u001b[39m\u001b[38;5;124mVERSION0\u001b[39m\u001b[38;5;124m\"\u001b[39m, \u001b[38;5;124m\"\u001b[39m\u001b[38;5;124mV1\u001b[39m\u001b[38;5;124m\"\u001b[39m, \u001b[38;5;124m\"\u001b[39m\u001b[38;5;124mVERSION1\u001b[39m\u001b[38;5;124m\"\u001b[39m, \u001b[38;5;124m\"\u001b[39m\u001b[38;5;124mW\u001b[39m\u001b[38;5;124m\"\u001b[39m, \u001b[38;5;124m\"\u001b[39m\u001b[38;5;124mWORD\u001b[39m\u001b[38;5;124m\"\u001b[39m, \u001b[38;5;124m\"\u001b[39m\u001b[38;5;124mX\u001b[39m\u001b[38;5;124m\"\u001b[39m, \u001b[38;5;124m\"\u001b[39m\u001b[38;5;124mVERBOSE\u001b[39m\u001b[38;5;124m\"\u001b[39m, \u001b[38;5;124m\"\u001b[39m\u001b[38;5;124merror\u001b[39m\u001b[38;5;124m\"\u001b[39m,\n\u001b[0;32m     27\u001b[0m   \u001b[38;5;124m\"\u001b[39m\u001b[38;5;124mScanner\u001b[39m\u001b[38;5;124m\"\u001b[39m, \u001b[38;5;124m\"\u001b[39m\u001b[38;5;124mRegexFlag\u001b[39m\u001b[38;5;124m\"\u001b[39m]\n\u001b[0;32m     29\u001b[0m \u001b[38;5;66;03m# The regex exception.\u001b[39;00m\n",
      "\u001b[1;31mModuleNotFoundError\u001b[0m: No module named 'regex._regex'"
     ]
    }
   ],
   "source": [
    "from torchmetrics.detection import MeanAveragePrecision\n",
    "\n",
    "mAP = MeanAveragePrecision(iou_type='bbox')\n",
    "mAP.update(\n",
    "    dict(\n",
    "        boxes=torch.stack([torch.tensor(box) for box in pred_boxes]).astype(torch.float32),\n",
    "        scores=pred[0]['scores'],\n",
    "        label=pred[9]['labels'],\n",
    "    ),\n",
    "    dict(\n",
    "        boxes=X[0],\n",
    "        labels=labels,\n",
    "    )\n",
    ")"
   ]
  },
  {
   "cell_type": "code",
   "execution_count": null,
   "metadata": {},
   "outputs": [],
   "source": []
  }
 ],
 "metadata": {
  "kernelspec": {
   "display_name": "faiac",
   "language": "python",
   "name": "python3"
  },
  "language_info": {
   "codemirror_mode": {
    "name": "ipython",
    "version": 3
   },
   "file_extension": ".py",
   "mimetype": "text/x-python",
   "name": "python",
   "nbconvert_exporter": "python",
   "pygments_lexer": "ipython3",
   "version": "3.12.8"
  }
 },
 "nbformat": 4,
 "nbformat_minor": 2
}
