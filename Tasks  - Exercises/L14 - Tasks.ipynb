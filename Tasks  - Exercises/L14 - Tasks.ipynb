{
 "cells": [
  {
   "cell_type": "code",
   "execution_count": null,
   "metadata": {},
   "outputs": [],
   "source": [
    "# Task 1\n",
    "\n",
    "from transformers import pipeline\n",
    "\n",
    "p = pipeline(\"translation\", model=\"facebook/mbart-large-50-many-to-many-mmt\")\n",
    "input_str= \"\"\"\n",
    "The year 2022 brought AI into the mainstream through widespread familiarity with applications of Generative Pre-Training Transformer.\n",
    "\"\"\"\n",
    "p(input_str)"
   ]
  },
  {
   "cell_type": "code",
   "execution_count": null,
   "metadata": {},
   "outputs": [],
   "source": []
  }
 ],
 "metadata": {
  "kernelspec": {
   "display_name": "faiac",
   "language": "python",
   "name": "python3"
  },
  "language_info": {
   "codemirror_mode": {
    "name": "ipython",
    "version": 3
   },
   "file_extension": ".py",
   "mimetype": "text/x-python",
   "name": "python",
   "nbconvert_exporter": "python",
   "pygments_lexer": "ipython3",
   "version": "3.12.3"
  }
 },
 "nbformat": 4,
 "nbformat_minor": 2
}
