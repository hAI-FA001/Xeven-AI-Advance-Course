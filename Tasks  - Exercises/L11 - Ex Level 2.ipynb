{
 "cells": [
  {
   "cell_type": "markdown",
   "metadata": {},
   "source": [
    "#### Level 2"
   ]
  },
  {
   "cell_type": "code",
   "execution_count": 4,
   "metadata": {},
   "outputs": [
    {
     "name": "stdout",
     "output_type": "stream",
     "text": [
      "(6, 5) (6, 6) (51, 50)\n"
     ]
    }
   ],
   "source": [
    "# Ex 1\n",
    "def evens_and_odds(integer):\n",
    "    num_evens = 0\n",
    "    num_odds = 0\n",
    "    for i in range(integer+1):\n",
    "        if i % 2 == 0:\n",
    "            num_evens += 1\n",
    "        else:\n",
    "            num_odds += 1\n",
    "    return num_evens, num_odds\n",
    "\n",
    "print(evens_and_odds(10), evens_and_odds(11), evens_and_odds(100))"
   ]
  },
  {
   "cell_type": "code",
   "execution_count": 7,
   "metadata": {},
   "outputs": [
    {
     "name": "stdout",
     "output_type": "stream",
     "text": [
      "3628800 1 120\n"
     ]
    }
   ],
   "source": [
    "# Ex 2\n",
    "def factorial(whole_num):\n",
    "    if whole_num == 1:\n",
    "        return 1\n",
    "    return whole_num * factorial(whole_num - 1)\n",
    "\n",
    "print(factorial(10), factorial(1), factorial(5))"
   ]
  },
  {
   "cell_type": "code",
   "execution_count": 11,
   "metadata": {},
   "outputs": [
    {
     "name": "stdout",
     "output_type": "stream",
     "text": [
      "False True\n"
     ]
    }
   ],
   "source": [
    "# Ex 3\n",
    "def is_empty(param):\n",
    "    # or it might be \"return param is None\", if it means check param itself is empty\n",
    "    return len(param) == 0\n",
    "print(is_empty([1,2,3]), is_empty({}))"
   ]
  },
  {
   "cell_type": "code",
   "execution_count": 16,
   "metadata": {},
   "outputs": [
    {
     "name": "stdout",
     "output_type": "stream",
     "text": [
      "1.0\n",
      "1\n",
      "1\n",
      "0\n",
      "0.0\n",
      "0.0\n",
      "\n",
      "1.3333333333333333\n",
      "1.0\n",
      "1\n",
      "2\n",
      "0.5555555555555556\n",
      "0.7453559924999299\n",
      "\n",
      "5.909090909090909\n",
      "10\n",
      "10\n",
      "9\n",
      "20.082644628099178\n",
      "4.481366379587723\n",
      "\n"
     ]
    }
   ],
   "source": [
    "# Ex 4\n",
    "def calculate_mean(lst):\n",
    "    mean = 0\n",
    "    for elem in lst:\n",
    "        mean += elem\n",
    "    return mean / len(lst)\n",
    "\n",
    "def calculate_median(lst):\n",
    "    if len(lst) % 2 == 0:\n",
    "        middle_1 = len(lst) // 2\n",
    "        middle_2 = middle_1 + 1\n",
    "        return calculate_mean([lst[middle_1], lst[middle_2]])\n",
    "    else:\n",
    "        middle = len(lst) // 2\n",
    "        middle += 1\n",
    "        return lst[middle]\n",
    "\n",
    "def calculate_mode(lst):\n",
    "    lst = sorted(lst)\n",
    "    \n",
    "    prev_num = None\n",
    "    cur_occurence = 0\n",
    "    mode_occurence = 0\n",
    "    mode = 0\n",
    "    for elem in lst:\n",
    "        if prev_num is None or prev_num != elem:\n",
    "            prev_num = elem\n",
    "            cur_occurence = 1\n",
    "        else:\n",
    "            cur_occurence += 1\n",
    "\n",
    "        if cur_occurence > mode_occurence:\n",
    "            mode_occurence = cur_occurence\n",
    "            mode = elem\n",
    "    return mode\n",
    "\n",
    "def calculate_range(lst):\n",
    "    min = lst[0]\n",
    "    max = lst[0]\n",
    "    for elem in lst:\n",
    "        if elem > max:\n",
    "            max = elem\n",
    "        if elem < min:\n",
    "            min = elem\n",
    "    return max - min\n",
    "\n",
    "def calculate_variance(lst):\n",
    "    mean = calculate_mean(lst)\n",
    "    var = 0\n",
    "    for elem in lst:\n",
    "        var += (elem - mean)**2\n",
    "    return var / len(lst)\n",
    "\n",
    "def calculate_std(lst):\n",
    "    from math import sqrt\n",
    "    return sqrt(calculate_variance(lst))\n",
    "\n",
    "lst = [1,1,1,1,1]\n",
    "print(calculate_mean(lst))\n",
    "print(calculate_median(lst))\n",
    "print(calculate_mode(lst))\n",
    "print(calculate_range(lst))\n",
    "print(calculate_variance(lst))\n",
    "print(calculate_std(lst))\n",
    "print()\n",
    "\n",
    "lst = [1,1,1,1,1,3]\n",
    "print(calculate_mean(lst))\n",
    "print(calculate_median(lst))\n",
    "print(calculate_mode(lst))\n",
    "print(calculate_range(lst))\n",
    "print(calculate_variance(lst))\n",
    "print(calculate_std(lst))\n",
    "print()\n",
    "\n",
    "lst = [1,1,1,1,1, 10,10,10,10,10,10]\n",
    "print(calculate_mean(lst))\n",
    "print(calculate_median(lst))\n",
    "print(calculate_mode(lst))\n",
    "print(calculate_range(lst))\n",
    "print(calculate_variance(lst))\n",
    "print(calculate_std(lst))\n",
    "print()"
   ]
  },
  {
   "cell_type": "code",
   "execution_count": null,
   "metadata": {},
   "outputs": [],
   "source": []
  }
 ],
 "metadata": {
  "kernelspec": {
   "display_name": "faiac",
   "language": "python",
   "name": "python3"
  },
  "language_info": {
   "codemirror_mode": {
    "name": "ipython",
    "version": 3
   },
   "file_extension": ".py",
   "mimetype": "text/x-python",
   "name": "python",
   "nbconvert_exporter": "python",
   "pygments_lexer": "ipython3",
   "version": "3.13.1"
  }
 },
 "nbformat": 4,
 "nbformat_minor": 2
}
