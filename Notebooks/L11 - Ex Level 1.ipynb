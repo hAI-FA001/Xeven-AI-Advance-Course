{
 "cells": [
  {
   "cell_type": "markdown",
   "metadata": {},
   "source": [
    "### Level 1"
   ]
  },
  {
   "cell_type": "code",
   "execution_count": 1,
   "metadata": {},
   "outputs": [
    {
     "name": "stdout",
     "output_type": "stream",
     "text": [
      "3.141592653589793 6.283185307179586\n"
     ]
    }
   ],
   "source": [
    "# Ex 1\n",
    "\n",
    "from math import pi\n",
    "def area_of_circle(r):\n",
    "    return pi * r * r\n",
    "\n",
    "def perimeter_of_circle(r):\n",
    "    return 2 * pi * r\n",
    "\n",
    "print(area_of_circle(1), perimeter_of_circle(1))"
   ]
  },
  {
   "cell_type": "code",
   "execution_count": 2,
   "metadata": {},
   "outputs": [
    {
     "name": "stdout",
     "output_type": "stream",
     "text": [
      "15\n",
      "Not a number: abc\n"
     ]
    }
   ],
   "source": [
    "# Ex 2\n",
    "def add_all_nums(*args):\n",
    "    for num in args:\n",
    "        if type(num) != int:\n",
    "            return \"Not a number: \" + str(num)\n",
    "    return sum(args)\n",
    "\n",
    "print(add_all_nums(1,2,3,4,5))\n",
    "print(add_all_nums(1,2,3,4,5,'abc'))"
   ]
  },
  {
   "cell_type": "code",
   "execution_count": 3,
   "metadata": {},
   "outputs": [
    {
     "name": "stdout",
     "output_type": "stream",
     "text": [
      "98.6\n"
     ]
    }
   ],
   "source": [
    "# Ex 3\n",
    "def convert_celsius_2_fahrenheit(c):\n",
    "    return (c * 9/5) + 32\n",
    "\n",
    "print(convert_celsius_2_fahrenheit(37))"
   ]
  },
  {
   "cell_type": "code",
   "execution_count": 4,
   "metadata": {},
   "outputs": [
    {
     "name": "stdout",
     "output_type": "stream",
     "text": [
      "Spring Summer Autumn Winter\n"
     ]
    }
   ],
   "source": [
    "# Ex 4\n",
    "def check_season(month):\n",
    "    # arbitrary months\n",
    "    if 2 <= month <= 4:\n",
    "        return 'Spring'\n",
    "    elif 5 <= month <= 7:\n",
    "        return 'Summer'\n",
    "    elif 8 <= month <= 10:\n",
    "        return 'Autumn'\n",
    "    elif month > 10 or month < 2:\n",
    "        return 'Winter'\n",
    "\n",
    "print(check_season(3), check_season(6), check_season(9), check_season(11))"
   ]
  },
  {
   "cell_type": "code",
   "execution_count": 5,
   "metadata": {},
   "outputs": [
    {
     "name": "stdout",
     "output_type": "stream",
     "text": [
      "m 1/2\n"
     ]
    }
   ],
   "source": [
    "# Ex 5\n",
    "def calculate_slope(eqn):\n",
    "    # y = m * x + c\n",
    "    return eqn.split('=')[1].strip().split('*')[0].strip()\n",
    "\n",
    "print(calculate_slope(\"y = m * x + c\"), calculate_slope(\"y = 1/2 * x + 123\"))"
   ]
  },
  {
   "cell_type": "code",
   "execution_count": 6,
   "metadata": {},
   "outputs": [
    {
     "name": "stdout",
     "output_type": "stream",
     "text": [
      "(1.0, -1.0)\n"
     ]
    }
   ],
   "source": [
    "# Ex 6\n",
    "def solve_quadratic_eqn(eqn):\n",
    "    # ax2 + bx + c = 0\n",
    "    \n",
    "    from math import sqrt\n",
    "\n",
    "    coef_x2, after_x2 = eqn.split('x2')\n",
    "    plus_minus_coef_x, after_x = after_x2.split('x')\n",
    "    plus_minus_c, after_eq = after_x.split('=')\n",
    "\n",
    "    a = float(coef_x2.strip())\n",
    "\n",
    "    if '+' in plus_minus_coef_x:\n",
    "        b = plus_minus_coef_x.split('+')[1].strip()\n",
    "        b = float(b)\n",
    "    else:\n",
    "        b = plus_minus_coef_x.split('-')[1].strip()\n",
    "        b = -float(b)\n",
    "    \n",
    "    if '+' in plus_minus_c:\n",
    "        c = plus_minus_c.split('+')[1].strip()\n",
    "        c = float(c)\n",
    "    else:\n",
    "        c = plus_minus_c.split('-')[1].strip()\n",
    "        c = -float(c)\n",
    "\n",
    "    \n",
    "    # a = eqn.split('x2')[0].strip()\n",
    "    # b = eqn.split('x2')[1].split('x')[0].split('+')[1].strip()\n",
    "    # c = eqn.split('x2')[1].split('x')[1].split('=')[0].split('+')[1].strip()\n",
    "\n",
    "    # print(a,b,c)\n",
    "\n",
    "    soln_1 = (-b + sqrt(b**2 - 4 * a * c)) / (2 * a)\n",
    "    soln_2 = (-b - sqrt(b**2 - 4 * a * c)) / (2 * a)\n",
    "\n",
    "    return soln_1, soln_2\n",
    "\n",
    "print(solve_quadratic_eqn(\"1x2 + 0x - 1 = 0\"))"
   ]
  },
  {
   "cell_type": "code",
   "execution_count": 7,
   "metadata": {},
   "outputs": [
    {
     "name": "stdout",
     "output_type": "stream",
     "text": [
      "1\n",
      "2\n",
      "3\n",
      "4\n",
      "abc\n",
      "1.1\n",
      "2.2\n"
     ]
    }
   ],
   "source": [
    "# Ex 7\n",
    "def print_list(lst):\n",
    "    for elem in lst:\n",
    "        print(elem)\n",
    "print_list([1,2,3,4,'abc',1.1,2.2])"
   ]
  },
  {
   "cell_type": "code",
   "execution_count": 8,
   "metadata": {},
   "outputs": [
    {
     "name": "stdout",
     "output_type": "stream",
     "text": [
      "[3, 2, 1]\n"
     ]
    }
   ],
   "source": [
    "# Ex 8\n",
    "def reverse_list(lst):\n",
    "    new_lst = []\n",
    "    for i in range(len(lst)-1, -1, -1):\n",
    "        new_lst.append(lst[i])\n",
    "    return new_lst\n",
    "\n",
    "print(reverse_list([1,2,3]))"
   ]
  },
  {
   "cell_type": "code",
   "execution_count": 10,
   "metadata": {},
   "outputs": [
    {
     "name": "stdout",
     "output_type": "stream",
     "text": [
      "['Abc', 'Def', 'Ghi']\n"
     ]
    }
   ],
   "source": [
    "# Ex 9\n",
    "def capitalize_list_items(lst):\n",
    "    new_lst = []\n",
    "    for elem in lst:\n",
    "        new_lst.append(elem[0].upper() + elem[1:])\n",
    "    return new_lst\n",
    "\n",
    "print(capitalize_list_items(['abc', 'def', 'ghi']))"
   ]
  },
  {
   "cell_type": "code",
   "execution_count": 11,
   "metadata": {},
   "outputs": [
    {
     "name": "stdout",
     "output_type": "stream",
     "text": [
      "[1, 2, 3, 10]\n"
     ]
    }
   ],
   "source": [
    "# Ex 10\n",
    "def add_item(lst, itm):\n",
    "    return lst + [itm]\n",
    "\n",
    "print(add_item([1,2,3], 10))"
   ]
  },
  {
   "cell_type": "code",
   "execution_count": 12,
   "metadata": {},
   "outputs": [
    {
     "name": "stdout",
     "output_type": "stream",
     "text": [
      "[1, 2, 3, 4]\n"
     ]
    }
   ],
   "source": [
    "# Ex 11\n",
    "def remove_item(lst, itm):\n",
    "    idx = lst.index(itm)\n",
    "    return lst[:idx] + lst[idx+1:]\n",
    "\n",
    "print(remove_item([1,2,3,4,5], 5))"
   ]
  },
  {
   "cell_type": "code",
   "execution_count": 13,
   "metadata": {},
   "outputs": [
    {
     "name": "stdout",
     "output_type": "stream",
     "text": [
      "45 4950\n"
     ]
    }
   ],
   "source": [
    "# Ex 12\n",
    "def sum_of_numbers(num):\n",
    "    cur_sum = 0\n",
    "    for i in range(num):\n",
    "        cur_sum += i\n",
    "    return cur_sum\n",
    "\n",
    "print(sum_of_numbers(10), sum_of_numbers(100))"
   ]
  },
  {
   "cell_type": "code",
   "execution_count": 20,
   "metadata": {},
   "outputs": [
    {
     "name": "stdout",
     "output_type": "stream",
     "text": [
      "25 25\n"
     ]
    }
   ],
   "source": [
    "# Ex 13\n",
    "def sum_of_odds(num):\n",
    "    cur_sum = 0\n",
    "    for i in range(num):\n",
    "        if i % 2 != 0:\n",
    "            cur_sum += i\n",
    "    return cur_sum\n",
    "\n",
    "print(sum_of_odds(10), 1+3+5+7+9)"
   ]
  },
  {
   "cell_type": "code",
   "execution_count": 23,
   "metadata": {},
   "outputs": [
    {
     "name": "stdout",
     "output_type": "stream",
     "text": [
      "20 20\n"
     ]
    }
   ],
   "source": [
    "# Ex 14\n",
    "def sum_of_even(num):\n",
    "    cur_sum = 0\n",
    "    for i in range(num):\n",
    "        if i % 2 == 0:\n",
    "            cur_sum += i\n",
    "    return cur_sum\n",
    "\n",
    "print(sum_of_even(10), 0+2+4+6+8)"
   ]
  },
  {
   "cell_type": "code",
   "execution_count": null,
   "metadata": {},
   "outputs": [],
   "source": []
  }
 ],
 "metadata": {
  "kernelspec": {
   "display_name": "faiac",
   "language": "python",
   "name": "python3"
  },
  "language_info": {
   "codemirror_mode": {
    "name": "ipython",
    "version": 3
   },
   "file_extension": ".py",
   "mimetype": "text/x-python",
   "name": "python",
   "nbconvert_exporter": "python",
   "pygments_lexer": "ipython3",
   "version": "3.13.1"
  }
 },
 "nbformat": 4,
 "nbformat_minor": 2
}
