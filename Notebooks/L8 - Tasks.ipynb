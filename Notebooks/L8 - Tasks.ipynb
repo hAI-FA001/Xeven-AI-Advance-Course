{
 "cells": [
  {
   "cell_type": "code",
   "execution_count": 1,
   "metadata": {},
   "outputs": [],
   "source": [
    "input_str = \" AI is capable of doing various travel related works such as from making travel arrangement to suggesting the hotels, flights, and best routes to the customers.  \""
   ]
  },
  {
   "cell_type": "code",
   "execution_count": 4,
   "metadata": {},
   "outputs": [
    {
     "name": "stdout",
     "output_type": "stream",
     "text": [
      " AI IS CAPABLE OF DOING VARIOUS TRAVEL RELATED WORKS SUCH AS FROM MAKING TRAVEL ARRANGEMENT TO SUGGESTING THE HOTELS, FLIGHTS, AND BEST ROUTES TO THE CUSTOMERS.  \n",
      " ai is capable of doing various travel related works such as from making travel arrangement to suggesting the hotels, flights, and best routes to the customers.  \n",
      "AI is capable of doing various travel related works such as from making travel arrangement to suggesting the hotels, flights, and best routes to the customers.\n",
      "['', 'AI', 'is', 'capable', 'of', 'doing', 'various', 'travel', 'related', 'works', 'such', 'as', 'from', 'making', 'travel', 'arrangement', 'to', 'suggesting', 'the', 'hotels,', 'flights,', 'and', 'best', 'routes', 'to', 'the', 'customers.', '', '']\n",
      " AI is capable of doing various travel related works such as from making travel arrangement to suggesting the hotels, flights, and best routes to the customers.  \n"
     ]
    }
   ],
   "source": [
    "# a\n",
    "capitalized_text = str.upper(input_str)\n",
    "print(capitalized_text)\n",
    "\n",
    "# b\n",
    "lowercase_text = input_str.lower()\n",
    "print(lowercase_text)\n",
    "\n",
    "# c\n",
    "white_space = input_str.strip()\n",
    "print(white_space)\n",
    "\n",
    "# d\n",
    "word_list = input_str.split(' ')\n",
    "print(word_list)\n",
    "\n",
    "# e\n",
    "replaced_text = input_str.replace('positive', 'remarkable')\n",
    "print(replaced_text)\n"
   ]
  },
  {
   "cell_type": "code",
   "execution_count": null,
   "metadata": {},
   "outputs": [],
   "source": []
  }
 ],
 "metadata": {
  "kernelspec": {
   "display_name": "faiac",
   "language": "python",
   "name": "python3"
  },
  "language_info": {
   "codemirror_mode": {
    "name": "ipython",
    "version": 3
   },
   "file_extension": ".py",
   "mimetype": "text/x-python",
   "name": "python",
   "nbconvert_exporter": "python",
   "pygments_lexer": "ipython3",
   "version": "3.13.1"
  }
 },
 "nbformat": 4,
 "nbformat_minor": 2
}
