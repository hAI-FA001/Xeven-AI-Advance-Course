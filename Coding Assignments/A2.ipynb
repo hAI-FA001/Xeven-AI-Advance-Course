{
 "cells": [
  {
   "cell_type": "code",
   "execution_count": 1,
   "metadata": {},
   "outputs": [
    {
     "name": "stdout",
     "output_type": "stream",
     "text": [
      "Num Vowels:  3\n",
      "Num Consonants:  7\n"
     ]
    }
   ],
   "source": [
    "string = input(\"String: \")\n",
    "\n",
    "num_vowels = 0\n",
    "num_consonants = 0\n",
    "for ch in string:\n",
    "    if ch.lower() in ['a', 'e', 'i', 'o', 'u']:\n",
    "        num_vowels += 1\n",
    "    elif 'a' <= ch.lower() <= 'z':\n",
    "        num_consonants += 1\n",
    "\n",
    "print('Num Vowels: ', num_vowels)\n",
    "print('Num Consonants: ', num_consonants)"
   ]
  },
  {
   "cell_type": "code",
   "execution_count": 2,
   "metadata": {},
   "outputs": [
    {
     "name": "stdout",
     "output_type": "stream",
     "text": [
      "docx\n"
     ]
    }
   ],
   "source": [
    "filename = input(\"Filename: \")\n",
    "\n",
    "print(filename.split('.')[1])"
   ]
  },
  {
   "cell_type": "code",
   "execution_count": 3,
   "metadata": {},
   "outputs": [
    {
     "name": "stdout",
     "output_type": "stream",
     "text": [
      "Found 200\n"
     ]
    }
   ],
   "source": [
    "sample_dict = {\n",
    "    'a': 100,\n",
    "    'b': 200,\n",
    "    'c': 300\n",
    "}\n",
    "\n",
    "found = False\n",
    "for k in sample_dict:\n",
    "    if sample_dict[k] == 200:\n",
    "        found = True\n",
    "        break\n",
    "\n",
    "if found:\n",
    "    print('Found 200')\n",
    "else:\n",
    "    print('Not Found 200')"
   ]
  },
  {
   "cell_type": "code",
   "execution_count": 4,
   "metadata": {},
   "outputs": [
    {
     "name": "stdout",
     "output_type": "stream",
     "text": [
      "20\n"
     ]
    }
   ],
   "source": [
    "t1 = (\"Orange\", [10,20,30], (5,15,25))\n",
    "\n",
    "print(t1[1][1])"
   ]
  },
  {
   "cell_type": "code",
   "execution_count": 5,
   "metadata": {},
   "outputs": [
    {
     "name": "stdout",
     "output_type": "stream",
     "text": [
      "BMI:  20.0\n",
      "You are  Normal weight\n"
     ]
    }
   ],
   "source": [
    "w = float(input(\"Weight (Kg): \"))\n",
    "h = float(input(\"Height (m): \"))\n",
    "\n",
    "bmi = w / h**2\n",
    "cat = None\n",
    "if bmi < 18.5: cat = 'Underweight'\n",
    "elif bmi < 25: cat = 'Normal weight'\n",
    "elif bmi < 30: cat = 'Overweight'\n",
    "else: cat = 'Obese'\n",
    "\n",
    "print('BMI: ', bmi)\n",
    "print('You are ', cat)"
   ]
  },
  {
   "cell_type": "code",
   "execution_count": 6,
   "metadata": {},
   "outputs": [
    {
     "name": "stdout",
     "output_type": "stream",
     "text": [
      "{'h': 1, 'e': 1, 'l': 2, 'o': 1}\n"
     ]
    }
   ],
   "source": [
    "string = input('String: ')\n",
    "\n",
    "freq = {}\n",
    "for ch in string:\n",
    "    if ch not in freq:\n",
    "        freq[ch] = 0\n",
    "    freq[ch] += 1\n",
    "\n",
    "print(freq)"
   ]
  },
  {
   "cell_type": "code",
   "execution_count": 7,
   "metadata": {},
   "outputs": [
    {
     "name": "stdout",
     "output_type": "stream",
     "text": [
      "Valid email\n"
     ]
    }
   ],
   "source": [
    "string = input('Email: ')\n",
    "\n",
    "has_at = '@' in string\n",
    "ends_correctly = string[-4:] == '.net' or string[-4:] == '.com'\n",
    "\n",
    "if has_at and ends_correctly:\n",
    "    print('Valid email')\n",
    "else:\n",
    "    print('Invalid email')"
   ]
  },
  {
   "cell_type": "code",
   "execution_count": 16,
   "metadata": {},
   "outputs": [
    {
     "name": "stdout",
     "output_type": "stream",
     "text": [
      "(6.0, 15.0, 24.0)\n"
     ]
    }
   ],
   "source": [
    "s = input('Enter tuples: ')\n",
    "\n",
    "s = s.split(')')\n",
    "all_nums = []\n",
    "for elem in s:\n",
    "    if '(' in elem:\n",
    "        nums = elem.split('(')[-1]\n",
    "        all_nums.append(nums)\n",
    "# print(all_nums)\n",
    "\n",
    "sums = []\n",
    "for nums in all_nums:\n",
    "    sum = 0\n",
    "    for n in nums.split(','):\n",
    "        sum += float(n.strip())\n",
    "    sums.append(sum)\n",
    "\n",
    "print(tuple(sums))"
   ]
  },
  {
   "cell_type": "code",
   "execution_count": 23,
   "metadata": {},
   "outputs": [
    {
     "name": "stdout",
     "output_type": "stream",
     "text": [
      "[2, 3, 5]\n"
     ]
    }
   ],
   "source": [
    "lst = list(range(2,2 + 10))\n",
    "\n",
    "primes = []\n",
    "for num in lst:\n",
    "    if len(primes) == 3: break\n",
    "\n",
    "    is_prime = True\n",
    "    for i in range(2,num):\n",
    "        if num % i == 0:\n",
    "            is_prime = False\n",
    "            break\n",
    "    \n",
    "    if is_prime:\n",
    "        primes.append(num)\n",
    "\n",
    "print(primes)"
   ]
  },
  {
   "cell_type": "code",
   "execution_count": 24,
   "metadata": {},
   "outputs": [
    {
     "name": "stdout",
     "output_type": "stream",
     "text": [
      "[{'name': 'Alice', 'age': 22, 'grade': 90}, {'name': 'John', 'age': 20, 'grade': 85}, {'name': 'Bob', 'age': 21, 'grade': 80}]\n"
     ]
    }
   ],
   "source": [
    "lst_of_dct = [\n",
    "    {\"name\": \"John\", \"age\": 20, \"grade\": 85},\n",
    "    {\"name\": \"Alice\", \"age\": 22, \"grade\": 90},\n",
    "    {\"name\": \"Bob\", \"age\": 21, \"grade\": 80}\n",
    "]\n",
    "\n",
    "print(sorted(lst_of_dct, key=lambda elem: elem['grade'], reverse=True))"
   ]
  },
  {
   "cell_type": "code",
   "execution_count": 25,
   "metadata": {},
   "outputs": [
    {
     "name": "stdout",
     "output_type": "stream",
     "text": [
      "Total unique:  6\n",
      "Unique:  [1.0, 2.0, 3.0, 4.0, 5.0, 6.0]\n"
     ]
    }
   ],
   "source": [
    "nums = input('Numbers: ')\n",
    "nums = nums.split(',')\n",
    "\n",
    "for i, n in enumerate(nums):\n",
    "    nums[i] = float(n.strip())\n",
    "\n",
    "unique_nums = set(nums)\n",
    "\n",
    "print('Total unique: ', len(unique_nums))\n",
    "print('Unique: ', list(unique_nums))"
   ]
  },
  {
   "cell_type": "code",
   "execution_count": 30,
   "metadata": {},
   "outputs": [
    {
     "name": "stdout",
     "output_type": "stream",
     "text": [
      "Common Elements:  [4.0, 5.0]\n"
     ]
    }
   ],
   "source": [
    "l1 = input('List 1: ')\n",
    "l2 = input('List 2: ')\n",
    "\n",
    "l1 = l1[1:-1]\n",
    "l2 = l2[1:-1]\n",
    "\n",
    "l1 = l1.split(',')\n",
    "l2 = l2.split(',')\n",
    "\n",
    "for i, n in enumerate(l1):\n",
    "    l1[i] = float(n.strip())\n",
    "for i, n in enumerate(l2):\n",
    "    l2[i] = float(n.strip())\n",
    "\n",
    "common = []\n",
    "for n in l1:\n",
    "    if n in l2:\n",
    "        common.append(n)\n",
    "\n",
    "print('Common Elements: ', common)"
   ]
  },
  {
   "cell_type": "code",
   "execution_count": 37,
   "metadata": {},
   "outputs": [
    {
     "name": "stdout",
     "output_type": "stream",
     "text": [
      "{'a': 5, 'b': 30, 'c': 40, 'd': 30}\n"
     ]
    }
   ],
   "source": [
    "d1 = input('Dict 1: ')\n",
    "d2 = input('Dict 2: ')\n",
    "\n",
    "d1 = d1[1:-1]\n",
    "d2 = d2[1:-1]\n",
    "\n",
    "d1 = d1.split(',')\n",
    "d2 = d2.split(',')\n",
    "\n",
    "dct1 = {}\n",
    "for kv in d1:\n",
    "    k, v = kv.split(':')\n",
    "    k = k.strip().strip('\\'\"')\n",
    "    v = int(v.strip())\n",
    "    dct1[k] = v\n",
    "\n",
    "dct2 = {}\n",
    "for kv in d2:\n",
    "    k, v = kv.split(':')\n",
    "    k = k.strip().strip('\\'\"')\n",
    "    v = int(v.strip())\n",
    "    dct2[k] = v\n",
    "\n",
    "dct_final = {}\n",
    "\n",
    "for k in dct1:\n",
    "    dct_final[k] = dct1[k]\n",
    "for k in dct2:\n",
    "    if k in dct_final:\n",
    "        dct_final[k] += dct2[k]\n",
    "    else:\n",
    "        dct_final[k] = dct2[k]\n",
    "\n",
    "print(dct_final)"
   ]
  },
  {
   "cell_type": "code",
   "execution_count": 38,
   "metadata": {},
   "outputs": [
    {
     "name": "stdout",
     "output_type": "stream",
     "text": [
      "8.0\n"
     ]
    }
   ],
   "source": [
    "base = float(input('Base: '))\n",
    "exp = float(input('Exponent: '))\n",
    "\n",
    "print(base**exp)"
   ]
  },
  {
   "cell_type": "code",
   "execution_count": 39,
   "metadata": {},
   "outputs": [
    {
     "name": "stdout",
     "output_type": "stream",
     "text": [
      "98.6\n"
     ]
    }
   ],
   "source": [
    "c = float(input('Celsius: '))\n",
    "f = (c * 9/5) + 32\n",
    "print(f)"
   ]
  },
  {
   "cell_type": "code",
   "execution_count": 40,
   "metadata": {},
   "outputs": [
    {
     "name": "stdout",
     "output_type": "stream",
     "text": [
      "[9, 8, 7, 6, 5, 4, 3, 2, 1, 0]\n"
     ]
    }
   ],
   "source": [
    "lst = list(range(10))\n",
    "\n",
    "reversed_lst = []\n",
    "for e in lst:\n",
    "    reversed_lst.insert(0, e)\n",
    "\n",
    "print(reversed_lst)"
   ]
  },
  {
   "cell_type": "code",
   "execution_count": 42,
   "metadata": {},
   "outputs": [
    {
     "name": "stdout",
     "output_type": "stream",
     "text": [
      "True\n"
     ]
    }
   ],
   "source": [
    "def is_palindrome(s):\n",
    "    return s == ''.join(list(reversed(s)))\n",
    "\n",
    "print(is_palindrome('radar'))"
   ]
  },
  {
   "cell_type": "code",
   "execution_count": 43,
   "metadata": {},
   "outputs": [
    {
     "name": "stdout",
     "output_type": "stream",
     "text": [
      "[2, 10, 32, 76, 98]\n"
     ]
    }
   ],
   "source": [
    "lst = [2, 5, 3, 7, 9, 53, 10, 32, 65, 76, 98]\n",
    "\n",
    "even = []\n",
    "for n in lst:\n",
    "    if n % 2 == 0:\n",
    "        even.append(n)\n",
    "\n",
    "print(even)"
   ]
  },
  {
   "cell_type": "code",
   "execution_count": 44,
   "metadata": {},
   "outputs": [
    {
     "name": "stdout",
     "output_type": "stream",
     "text": [
      "{'a': 1, 'b': 2, 'c': 3}\n"
     ]
    }
   ],
   "source": [
    "keys = ['a', 'b', 'c']\n",
    "values = [1, 2, 3]\n",
    "\n",
    "dct = {}\n",
    "for i in range(len(keys)):\n",
    "    dct[keys[i]] = values[i]\n",
    "\n",
    "print(dct)"
   ]
  },
  {
   "cell_type": "code",
   "execution_count": null,
   "metadata": {},
   "outputs": [],
   "source": []
  }
 ],
 "metadata": {
  "kernelspec": {
   "display_name": "faiac",
   "language": "python",
   "name": "python3"
  },
  "language_info": {
   "codemirror_mode": {
    "name": "ipython",
    "version": 3
   },
   "file_extension": ".py",
   "mimetype": "text/x-python",
   "name": "python",
   "nbconvert_exporter": "python",
   "pygments_lexer": "ipython3",
   "version": "3.12.8"
  }
 },
 "nbformat": 4,
 "nbformat_minor": 2
}
