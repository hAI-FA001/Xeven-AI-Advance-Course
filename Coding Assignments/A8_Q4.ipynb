{
  "nbformat": 4,
  "nbformat_minor": 0,
  "metadata": {
    "colab": {
      "provenance": [],
      "gpuType": "T4"
    },
    "kernelspec": {
      "name": "python3",
      "display_name": "Python 3"
    },
    "language_info": {
      "name": "python"
    },
    "accelerator": "GPU"
  },
  "cells": [
    {
      "cell_type": "code",
      "execution_count": 2,
      "metadata": {
        "colab": {
          "base_uri": "https://localhost:8080/"
        },
        "id": "yFWifdtusFQx",
        "outputId": "d5c94912-88e4-48b7-d371-3820a7070a6b"
      },
      "outputs": [
        {
          "output_type": "stream",
          "name": "stdout",
          "text": [
            "Requirement already satisfied: torch in /usr/local/lib/python3.11/dist-packages (2.5.1+cu124)\n",
            "Requirement already satisfied: torchvision in /usr/local/lib/python3.11/dist-packages (0.20.1+cu124)\n",
            "Collecting torchmetrics\n",
            "  Downloading torchmetrics-1.6.1-py3-none-any.whl.metadata (21 kB)\n",
            "Requirement already satisfied: kaggle in /usr/local/lib/python3.11/dist-packages (1.6.17)\n",
            "Requirement already satisfied: kagglehub in /usr/local/lib/python3.11/dist-packages (0.3.6)\n",
            "Requirement already satisfied: filelock in /usr/local/lib/python3.11/dist-packages (from torch) (3.17.0)\n",
            "Requirement already satisfied: typing-extensions>=4.8.0 in /usr/local/lib/python3.11/dist-packages (from torch) (4.12.2)\n",
            "Requirement already satisfied: networkx in /usr/local/lib/python3.11/dist-packages (from torch) (3.4.2)\n",
            "Requirement already satisfied: jinja2 in /usr/local/lib/python3.11/dist-packages (from torch) (3.1.5)\n",
            "Requirement already satisfied: fsspec in /usr/local/lib/python3.11/dist-packages (from torch) (2024.10.0)\n",
            "Collecting nvidia-cuda-nvrtc-cu12==12.4.127 (from torch)\n",
            "  Downloading nvidia_cuda_nvrtc_cu12-12.4.127-py3-none-manylinux2014_x86_64.whl.metadata (1.5 kB)\n",
            "Collecting nvidia-cuda-runtime-cu12==12.4.127 (from torch)\n",
            "  Downloading nvidia_cuda_runtime_cu12-12.4.127-py3-none-manylinux2014_x86_64.whl.metadata (1.5 kB)\n",
            "Collecting nvidia-cuda-cupti-cu12==12.4.127 (from torch)\n",
            "  Downloading nvidia_cuda_cupti_cu12-12.4.127-py3-none-manylinux2014_x86_64.whl.metadata (1.6 kB)\n",
            "Collecting nvidia-cudnn-cu12==9.1.0.70 (from torch)\n",
            "  Downloading nvidia_cudnn_cu12-9.1.0.70-py3-none-manylinux2014_x86_64.whl.metadata (1.6 kB)\n",
            "Collecting nvidia-cublas-cu12==12.4.5.8 (from torch)\n",
            "  Downloading nvidia_cublas_cu12-12.4.5.8-py3-none-manylinux2014_x86_64.whl.metadata (1.5 kB)\n",
            "Collecting nvidia-cufft-cu12==11.2.1.3 (from torch)\n",
            "  Downloading nvidia_cufft_cu12-11.2.1.3-py3-none-manylinux2014_x86_64.whl.metadata (1.5 kB)\n",
            "Collecting nvidia-curand-cu12==10.3.5.147 (from torch)\n",
            "  Downloading nvidia_curand_cu12-10.3.5.147-py3-none-manylinux2014_x86_64.whl.metadata (1.5 kB)\n",
            "Collecting nvidia-cusolver-cu12==11.6.1.9 (from torch)\n",
            "  Downloading nvidia_cusolver_cu12-11.6.1.9-py3-none-manylinux2014_x86_64.whl.metadata (1.6 kB)\n",
            "Collecting nvidia-cusparse-cu12==12.3.1.170 (from torch)\n",
            "  Downloading nvidia_cusparse_cu12-12.3.1.170-py3-none-manylinux2014_x86_64.whl.metadata (1.6 kB)\n",
            "Requirement already satisfied: nvidia-nccl-cu12==2.21.5 in /usr/local/lib/python3.11/dist-packages (from torch) (2.21.5)\n",
            "Requirement already satisfied: nvidia-nvtx-cu12==12.4.127 in /usr/local/lib/python3.11/dist-packages (from torch) (12.4.127)\n",
            "Collecting nvidia-nvjitlink-cu12==12.4.127 (from torch)\n",
            "  Downloading nvidia_nvjitlink_cu12-12.4.127-py3-none-manylinux2014_x86_64.whl.metadata (1.5 kB)\n",
            "Requirement already satisfied: triton==3.1.0 in /usr/local/lib/python3.11/dist-packages (from torch) (3.1.0)\n",
            "Requirement already satisfied: sympy==1.13.1 in /usr/local/lib/python3.11/dist-packages (from torch) (1.13.1)\n",
            "Requirement already satisfied: mpmath<1.4,>=1.1.0 in /usr/local/lib/python3.11/dist-packages (from sympy==1.13.1->torch) (1.3.0)\n",
            "Requirement already satisfied: numpy in /usr/local/lib/python3.11/dist-packages (from torchvision) (1.26.4)\n",
            "Requirement already satisfied: pillow!=8.3.*,>=5.3.0 in /usr/local/lib/python3.11/dist-packages (from torchvision) (11.1.0)\n",
            "Requirement already satisfied: packaging>17.1 in /usr/local/lib/python3.11/dist-packages (from torchmetrics) (24.2)\n",
            "Collecting lightning-utilities>=0.8.0 (from torchmetrics)\n",
            "  Downloading lightning_utilities-0.12.0-py3-none-any.whl.metadata (5.6 kB)\n",
            "Requirement already satisfied: six>=1.10 in /usr/local/lib/python3.11/dist-packages (from kaggle) (1.17.0)\n",
            "Requirement already satisfied: certifi>=2023.7.22 in /usr/local/lib/python3.11/dist-packages (from kaggle) (2024.12.14)\n",
            "Requirement already satisfied: python-dateutil in /usr/local/lib/python3.11/dist-packages (from kaggle) (2.8.2)\n",
            "Requirement already satisfied: requests in /usr/local/lib/python3.11/dist-packages (from kaggle) (2.32.3)\n",
            "Requirement already satisfied: tqdm in /usr/local/lib/python3.11/dist-packages (from kaggle) (4.67.1)\n",
            "Requirement already satisfied: python-slugify in /usr/local/lib/python3.11/dist-packages (from kaggle) (8.0.4)\n",
            "Requirement already satisfied: urllib3 in /usr/local/lib/python3.11/dist-packages (from kaggle) (2.3.0)\n",
            "Requirement already satisfied: bleach in /usr/local/lib/python3.11/dist-packages (from kaggle) (6.2.0)\n",
            "Requirement already satisfied: setuptools in /usr/local/lib/python3.11/dist-packages (from lightning-utilities>=0.8.0->torchmetrics) (75.1.0)\n",
            "Requirement already satisfied: webencodings in /usr/local/lib/python3.11/dist-packages (from bleach->kaggle) (0.5.1)\n",
            "Requirement already satisfied: MarkupSafe>=2.0 in /usr/local/lib/python3.11/dist-packages (from jinja2->torch) (3.0.2)\n",
            "Requirement already satisfied: text-unidecode>=1.3 in /usr/local/lib/python3.11/dist-packages (from python-slugify->kaggle) (1.3)\n",
            "Requirement already satisfied: charset-normalizer<4,>=2 in /usr/local/lib/python3.11/dist-packages (from requests->kaggle) (3.4.1)\n",
            "Requirement already satisfied: idna<4,>=2.5 in /usr/local/lib/python3.11/dist-packages (from requests->kaggle) (3.10)\n",
            "Downloading nvidia_cublas_cu12-12.4.5.8-py3-none-manylinux2014_x86_64.whl (363.4 MB)\n",
            "\u001b[2K   \u001b[90m━━━━━━━━━━━━━━━━━━━━━━━━━━━━━━━━━━━━━━━━\u001b[0m \u001b[32m363.4/363.4 MB\u001b[0m \u001b[31m4.0 MB/s\u001b[0m eta \u001b[36m0:00:00\u001b[0m\n",
            "\u001b[?25hDownloading nvidia_cuda_cupti_cu12-12.4.127-py3-none-manylinux2014_x86_64.whl (13.8 MB)\n",
            "\u001b[2K   \u001b[90m━━━━━━━━━━━━━━━━━━━━━━━━━━━━━━━━━━━━━━━━\u001b[0m \u001b[32m13.8/13.8 MB\u001b[0m \u001b[31m67.3 MB/s\u001b[0m eta \u001b[36m0:00:00\u001b[0m\n",
            "\u001b[?25hDownloading nvidia_cuda_nvrtc_cu12-12.4.127-py3-none-manylinux2014_x86_64.whl (24.6 MB)\n",
            "\u001b[2K   \u001b[90m━━━━━━━━━━━━━━━━━━━━━━━━━━━━━━━━━━━━━━━━\u001b[0m \u001b[32m24.6/24.6 MB\u001b[0m \u001b[31m36.2 MB/s\u001b[0m eta \u001b[36m0:00:00\u001b[0m\n",
            "\u001b[?25hDownloading nvidia_cuda_runtime_cu12-12.4.127-py3-none-manylinux2014_x86_64.whl (883 kB)\n",
            "\u001b[2K   \u001b[90m━━━━━━━━━━━━━━━━━━━━━━━━━━━━━━━━━━━━━━━━\u001b[0m \u001b[32m883.7/883.7 kB\u001b[0m \u001b[31m43.5 MB/s\u001b[0m eta \u001b[36m0:00:00\u001b[0m\n",
            "\u001b[?25hDownloading nvidia_cudnn_cu12-9.1.0.70-py3-none-manylinux2014_x86_64.whl (664.8 MB)\n",
            "\u001b[2K   \u001b[90m━━━━━━━━━━━━━━━━━━━━━━━━━━━━━━━━━━━━━━━━\u001b[0m \u001b[32m664.8/664.8 MB\u001b[0m \u001b[31m1.3 MB/s\u001b[0m eta \u001b[36m0:00:00\u001b[0m\n",
            "\u001b[?25hDownloading nvidia_cufft_cu12-11.2.1.3-py3-none-manylinux2014_x86_64.whl (211.5 MB)\n",
            "\u001b[2K   \u001b[90m━━━━━━━━━━━━━━━━━━━━━━━━━━━━━━━━━━━━━━━━\u001b[0m \u001b[32m211.5/211.5 MB\u001b[0m \u001b[31m5.6 MB/s\u001b[0m eta \u001b[36m0:00:00\u001b[0m\n",
            "\u001b[?25hDownloading nvidia_curand_cu12-10.3.5.147-py3-none-manylinux2014_x86_64.whl (56.3 MB)\n",
            "\u001b[2K   \u001b[90m━━━━━━━━━━━━━━━━━━━━━━━━━━━━━━━━━━━━━━━━\u001b[0m \u001b[32m56.3/56.3 MB\u001b[0m \u001b[31m13.6 MB/s\u001b[0m eta \u001b[36m0:00:00\u001b[0m\n",
            "\u001b[?25hDownloading nvidia_cusolver_cu12-11.6.1.9-py3-none-manylinux2014_x86_64.whl (127.9 MB)\n",
            "\u001b[2K   \u001b[90m━━━━━━━━━━━━━━━━━━━━━━━━━━━━━━━━━━━━━━━━\u001b[0m \u001b[32m127.9/127.9 MB\u001b[0m \u001b[31m7.3 MB/s\u001b[0m eta \u001b[36m0:00:00\u001b[0m\n",
            "\u001b[?25hDownloading nvidia_cusparse_cu12-12.3.1.170-py3-none-manylinux2014_x86_64.whl (207.5 MB)\n",
            "\u001b[2K   \u001b[90m━━━━━━━━━━━━━━━━━━━━━━━━━━━━━━━━━━━━━━━━\u001b[0m \u001b[32m207.5/207.5 MB\u001b[0m \u001b[31m5.6 MB/s\u001b[0m eta \u001b[36m0:00:00\u001b[0m\n",
            "\u001b[?25hDownloading nvidia_nvjitlink_cu12-12.4.127-py3-none-manylinux2014_x86_64.whl (21.1 MB)\n",
            "\u001b[2K   \u001b[90m━━━━━━━━━━━━━━━━━━━━━━━━━━━━━━━━━━━━━━━━\u001b[0m \u001b[32m21.1/21.1 MB\u001b[0m \u001b[31m64.0 MB/s\u001b[0m eta \u001b[36m0:00:00\u001b[0m\n",
            "\u001b[?25hDownloading torchmetrics-1.6.1-py3-none-any.whl (927 kB)\n",
            "\u001b[2K   \u001b[90m━━━━━━━━━━━━━━━━━━━━━━━━━━━━━━━━━━━━━━━━\u001b[0m \u001b[32m927.3/927.3 kB\u001b[0m \u001b[31m50.7 MB/s\u001b[0m eta \u001b[36m0:00:00\u001b[0m\n",
            "\u001b[?25hDownloading lightning_utilities-0.12.0-py3-none-any.whl (28 kB)\n",
            "Installing collected packages: nvidia-nvjitlink-cu12, nvidia-curand-cu12, nvidia-cufft-cu12, nvidia-cuda-runtime-cu12, nvidia-cuda-nvrtc-cu12, nvidia-cuda-cupti-cu12, nvidia-cublas-cu12, lightning-utilities, nvidia-cusparse-cu12, nvidia-cudnn-cu12, nvidia-cusolver-cu12, torchmetrics\n",
            "  Attempting uninstall: nvidia-nvjitlink-cu12\n",
            "    Found existing installation: nvidia-nvjitlink-cu12 12.5.82\n",
            "    Uninstalling nvidia-nvjitlink-cu12-12.5.82:\n",
            "      Successfully uninstalled nvidia-nvjitlink-cu12-12.5.82\n",
            "  Attempting uninstall: nvidia-curand-cu12\n",
            "    Found existing installation: nvidia-curand-cu12 10.3.6.82\n",
            "    Uninstalling nvidia-curand-cu12-10.3.6.82:\n",
            "      Successfully uninstalled nvidia-curand-cu12-10.3.6.82\n",
            "  Attempting uninstall: nvidia-cufft-cu12\n",
            "    Found existing installation: nvidia-cufft-cu12 11.2.3.61\n",
            "    Uninstalling nvidia-cufft-cu12-11.2.3.61:\n",
            "      Successfully uninstalled nvidia-cufft-cu12-11.2.3.61\n",
            "  Attempting uninstall: nvidia-cuda-runtime-cu12\n",
            "    Found existing installation: nvidia-cuda-runtime-cu12 12.5.82\n",
            "    Uninstalling nvidia-cuda-runtime-cu12-12.5.82:\n",
            "      Successfully uninstalled nvidia-cuda-runtime-cu12-12.5.82\n",
            "  Attempting uninstall: nvidia-cuda-nvrtc-cu12\n",
            "    Found existing installation: nvidia-cuda-nvrtc-cu12 12.5.82\n",
            "    Uninstalling nvidia-cuda-nvrtc-cu12-12.5.82:\n",
            "      Successfully uninstalled nvidia-cuda-nvrtc-cu12-12.5.82\n",
            "  Attempting uninstall: nvidia-cuda-cupti-cu12\n",
            "    Found existing installation: nvidia-cuda-cupti-cu12 12.5.82\n",
            "    Uninstalling nvidia-cuda-cupti-cu12-12.5.82:\n",
            "      Successfully uninstalled nvidia-cuda-cupti-cu12-12.5.82\n",
            "  Attempting uninstall: nvidia-cublas-cu12\n",
            "    Found existing installation: nvidia-cublas-cu12 12.5.3.2\n",
            "    Uninstalling nvidia-cublas-cu12-12.5.3.2:\n",
            "      Successfully uninstalled nvidia-cublas-cu12-12.5.3.2\n",
            "  Attempting uninstall: nvidia-cusparse-cu12\n",
            "    Found existing installation: nvidia-cusparse-cu12 12.5.1.3\n",
            "    Uninstalling nvidia-cusparse-cu12-12.5.1.3:\n",
            "      Successfully uninstalled nvidia-cusparse-cu12-12.5.1.3\n",
            "  Attempting uninstall: nvidia-cudnn-cu12\n",
            "    Found existing installation: nvidia-cudnn-cu12 9.3.0.75\n",
            "    Uninstalling nvidia-cudnn-cu12-9.3.0.75:\n",
            "      Successfully uninstalled nvidia-cudnn-cu12-9.3.0.75\n",
            "  Attempting uninstall: nvidia-cusolver-cu12\n",
            "    Found existing installation: nvidia-cusolver-cu12 11.6.3.83\n",
            "    Uninstalling nvidia-cusolver-cu12-11.6.3.83:\n",
            "      Successfully uninstalled nvidia-cusolver-cu12-11.6.3.83\n",
            "Successfully installed lightning-utilities-0.12.0 nvidia-cublas-cu12-12.4.5.8 nvidia-cuda-cupti-cu12-12.4.127 nvidia-cuda-nvrtc-cu12-12.4.127 nvidia-cuda-runtime-cu12-12.4.127 nvidia-cudnn-cu12-9.1.0.70 nvidia-cufft-cu12-11.2.1.3 nvidia-curand-cu12-10.3.5.147 nvidia-cusolver-cu12-11.6.1.9 nvidia-cusparse-cu12-12.3.1.170 nvidia-nvjitlink-cu12-12.4.127 torchmetrics-1.6.1\n"
          ]
        }
      ],
      "source": [
        "!pip install torch torchvision torchmetrics kaggle kagglehub"
      ]
    },
    {
      "cell_type": "code",
      "source": [
        "import kagglehub\n",
        "\n",
        "path = kagglehub.dataset_download(\"mateuszbuda/lgg-mri-segmentation\")\n",
        "path"
      ],
      "metadata": {
        "colab": {
          "base_uri": "https://localhost:8080/",
          "height": 105
        },
        "id": "3BUV9x-HsZbC",
        "outputId": "3aeb7c3e-948d-4b91-f9a2-2a02cfde7014"
      },
      "execution_count": 3,
      "outputs": [
        {
          "output_type": "stream",
          "name": "stdout",
          "text": [
            "Warning: Looks like you're using an outdated `kagglehub` version (installed: 0.3.6), please consider upgrading to the latest version (0.3.7).\n",
            "Downloading from https://www.kaggle.com/api/v1/datasets/download/mateuszbuda/lgg-mri-segmentation?dataset_version_number=2...\n"
          ]
        },
        {
          "output_type": "stream",
          "name": "stderr",
          "text": [
            "100%|██████████| 714M/714M [00:32<00:00, 23.0MB/s]"
          ]
        },
        {
          "output_type": "stream",
          "name": "stdout",
          "text": [
            "Extracting files...\n"
          ]
        },
        {
          "output_type": "stream",
          "name": "stderr",
          "text": [
            "\n"
          ]
        },
        {
          "output_type": "execute_result",
          "data": {
            "text/plain": [
              "'/root/.cache/kagglehub/datasets/mateuszbuda/lgg-mri-segmentation/versions/2'"
            ],
            "application/vnd.google.colaboratory.intrinsic+json": {
              "type": "string"
            }
          },
          "metadata": {},
          "execution_count": 3
        }
      ]
    },
    {
      "cell_type": "code",
      "source": [
        "import os\n",
        "\n",
        "dataset_base = path\n",
        "dataset_base = f\"{dataset_base}/{os.listdir(dataset_base)[0]}\"\n",
        "dataset_base = f\"{dataset_base}/{os.listdir(dataset_base)[0]}\"\n",
        "dataset_base = f\"{dataset_base}/{os.listdir(dataset_base)[0]}\"\n",
        "dataset_base"
      ],
      "metadata": {
        "colab": {
          "base_uri": "https://localhost:8080/",
          "height": 36
        },
        "id": "JvsnNCNrsfyS",
        "outputId": "d52b5091-2c4b-49ab-8e7a-ab3fb3b384a4"
      },
      "execution_count": 9,
      "outputs": [
        {
          "output_type": "execute_result",
          "data": {
            "text/plain": [
              "'/root/.cache/kagglehub/datasets/mateuszbuda/lgg-mri-segmentation/versions/2/lgg-mri-segmentation/kaggle_3m/TCGA_CS_4944_20010208'"
            ],
            "application/vnd.google.colaboratory.intrinsic+json": {
              "type": "string"
            }
          },
          "metadata": {},
          "execution_count": 9
        }
      ]
    },
    {
      "cell_type": "code",
      "source": [
        "os.listdir(dataset_base)[:5]"
      ],
      "metadata": {
        "colab": {
          "base_uri": "https://localhost:8080/"
        },
        "id": "k5J0uLg3uFO-",
        "outputId": "98158acc-abcf-4a0c-a805-df0b22421f54"
      },
      "execution_count": 10,
      "outputs": [
        {
          "output_type": "execute_result",
          "data": {
            "text/plain": [
              "['TCGA_CS_4944_20010208_1_mask.tif',\n",
              " 'TCGA_CS_4944_20010208_12_mask.tif',\n",
              " 'TCGA_CS_4944_20010208_9_mask.tif',\n",
              " 'TCGA_CS_4944_20010208_9.tif',\n",
              " 'TCGA_CS_4944_20010208_16_mask.tif']"
            ]
          },
          "metadata": {},
          "execution_count": 10
        }
      ]
    },
    {
      "cell_type": "code",
      "source": [
        "import torch.utils.data as data\n",
        "\n",
        "class SegmentationDataset(data.Dataset):\n",
        "  def __init__(self, path):\n",
        "    super(SegmentationDataset, self).__init__()\n",
        "\n",
        "    self.imgs = [f\"{path}/{f}\" for f in os.listdir(path) if '_mask' not in f]\n",
        "    self.masks = [f\"{path}/{f}\" for f in os.listdir(path) if '_mask' in f]\n",
        "\n",
        "  def __getitem__(self, index):\n",
        "    from PIL import Image\n",
        "    import numpy as np\n",
        "    import torch\n",
        "    img, mask = Image.open(self.imgs[index]), Image.open(self.masks[index])\n",
        "    img, mask = img.resize((128,128)), mask.resize((128,128))\n",
        "    img, mask = np.array(img), np.array(mask)\n",
        "    img, mask = torch.from_numpy(img).float(), torch.from_numpy(mask).float()\n",
        "    img, mask = img / 255., mask / 255.\n",
        "    return img.permute((2,0,1)), mask\n",
        "\n",
        "  def __len__(self):\n",
        "    return len(self.imgs)"
      ],
      "metadata": {
        "id": "v9n8BBLPtlF6"
      },
      "execution_count": 11,
      "outputs": []
    },
    {
      "cell_type": "code",
      "source": [
        "dataset = SegmentationDataset(dataset_base)\n",
        "dataset"
      ],
      "metadata": {
        "colab": {
          "base_uri": "https://localhost:8080/"
        },
        "id": "3_s1R0EXuebG",
        "outputId": "b9fd00c9-5071-4d46-8034-ca584355f0ee"
      },
      "execution_count": 12,
      "outputs": [
        {
          "output_type": "execute_result",
          "data": {
            "text/plain": [
              "<__main__.SegmentationDataset at 0x7bea4f6414d0>"
            ]
          },
          "metadata": {},
          "execution_count": 12
        }
      ]
    },
    {
      "cell_type": "code",
      "source": [
        "# verify data\n",
        "for data in dataset:\n",
        "  print(data[0].min(), data[0].max())\n",
        "  print(data[0].shape, data[1].shape)\n",
        "  break"
      ],
      "metadata": {
        "colab": {
          "base_uri": "https://localhost:8080/"
        },
        "id": "nHBLGErhupcc",
        "outputId": "7942d6de-a7ff-49ee-cfe3-dce5a746af4d"
      },
      "execution_count": 13,
      "outputs": [
        {
          "output_type": "stream",
          "name": "stdout",
          "text": [
            "tensor(0.) tensor(0.8980)\n",
            "torch.Size([3, 128, 128]) torch.Size([128, 128])\n"
          ]
        }
      ]
    },
    {
      "cell_type": "code",
      "source": [
        "import torch.nn as nn\n",
        "\n",
        "class UNet(nn.Module):\n",
        "  def __init__(self):\n",
        "    super().__init__()\n",
        "\n",
        "    # Encoder\n",
        "\n",
        "    # formula: (size + 2 * padding - filter_size) / stride + 1\n",
        "    # (128 + 2*1 - 3) / 1 + 1 = 128\n",
        "    self.conv11 = nn.Conv2d(3, 64, 3, 1, 1)\n",
        "    # (128 + 2*1 - 3) / 1 + 1 = 128\n",
        "    self.conv12 = nn.Conv2d(64, 64, 3, 1, 1)\n",
        "    # 128 / 2 = 64\n",
        "    self.pool1 = nn.MaxPool2d(2, 2)\n",
        "\n",
        "    # (64 + 2*1 - 3) / 1 + 1 = 64\n",
        "    self.conv21 = nn.Conv2d(64, 128, 3, 1, 1)\n",
        "    # (64 + 2*1 - 3) / 1 + 1 = 64\n",
        "    self.conv22 = nn.Conv2d(128, 128, 3, 1, 1)\n",
        "    # 64 / 2 = 32\n",
        "    self.pool2 = nn.MaxPool2d(2, 2)\n",
        "\n",
        "    # 32\n",
        "    self.conv31 = nn.Conv2d(128, 256, 3, 1, 1)\n",
        "    # 32\n",
        "    self.conv32 = nn.Conv2d(256, 256, 3, 1, 1)\n",
        "    # 32 / 2 = 16\n",
        "    self.pool3 = nn.MaxPool2d(2, 2)\n",
        "\n",
        "\n",
        "    self.conv41 = nn.Conv2d(256, 512, 3, 1, 1)\n",
        "    self.conv42 = nn.Conv2d(512, 512, 3, 1, 1)\n",
        "\n",
        "\n",
        "    # Decoder\n",
        "\n",
        "    self.convT1 = nn.ConvTranspose2d(512, 256, 2, 2)\n",
        "    self.convDec11 = nn.Conv2d(512, 256, 3, 1, 1)\n",
        "    self.convDec12 = nn.Conv2d(256, 256, 3, 1, 1)\n",
        "\n",
        "    self.convT2 = nn.ConvTranspose2d(256, 128, 2, 2)\n",
        "    self.convDec21 = nn.Conv2d(256, 128, 3, 1, 1)\n",
        "    self.convDec22 = nn.Conv2d(128, 128, 3, 1, 1)\n",
        "\n",
        "    self.convT3 = nn.ConvTranspose2d(128, 64, 2, 2)\n",
        "    self.convDec31 = nn.Conv2d(128, 64, 3, 1, 1)\n",
        "    self.convDec32 = nn.Conv2d(64, 64, 3, 1, 1)\n",
        "\n",
        "    self.convFinal = nn.Conv2d(64, 2, 1)\n",
        "\n",
        "  def forward(self, x):\n",
        "    from torch.nn.functional import relu\n",
        "    import torch\n",
        "\n",
        "    encoderC11 = relu(self.conv11(x))\n",
        "    encoderC12 = relu(self.conv12(encoderC11))\n",
        "    encoderP1 = self.pool1(encoderC12)\n",
        "\n",
        "    encoderC21 = relu(self.conv21(encoderP1))\n",
        "    encoderC22 = relu(self.conv22(encoderC21))\n",
        "    encoderP2 = self.pool2(encoderC22)\n",
        "\n",
        "    encoderC31 = relu(self.conv31(encoderP2))\n",
        "    encoderC32 = relu(self.conv32(encoderC31))\n",
        "    encoderP3 = self.pool3(encoderC32)\n",
        "\n",
        "\n",
        "    bottleneckC1 = relu(self.conv41(encoderP3))\n",
        "    bottleneckC2 = relu(self.conv42(bottleneckC1))\n",
        "\n",
        "\n",
        "    decoderCT1 = self.convT1(bottleneckC2)\n",
        "    skip1 = torch.cat([decoderCT1, encoderC32], dim=1)\n",
        "    decoderC11 = relu(self.convDec11(skip1))\n",
        "    decoderC12 = relu(self.convDec12(decoderC11))\n",
        "\n",
        "    decoderCT2 = self.convT2(decoderC12)\n",
        "    skip2 = torch.cat([decoderCT2, encoderC22], dim=1)\n",
        "    decoderC21 = relu(self.convDec21(skip2))\n",
        "    decoderC22 = relu(self.convDec22(decoderC21))\n",
        "\n",
        "    decoderCT3 = self.convT3(decoderC22)\n",
        "    skip3 = torch.cat([decoderCT3, encoderC12], dim=1)\n",
        "    decoderC31 = relu(self.convDec31(skip3))\n",
        "    decoderC32 = relu(self.convDec32(decoderC31))\n",
        "\n",
        "    pred = self.convFinal(decoderC32)\n",
        "\n",
        "    return pred\n"
      ],
      "metadata": {
        "id": "XOdEV_wXvKIu"
      },
      "execution_count": 14,
      "outputs": []
    },
    {
      "cell_type": "code",
      "source": [
        "model = UNet()"
      ],
      "metadata": {
        "id": "CKUaL-Tl0Jeg"
      },
      "execution_count": 15,
      "outputs": []
    },
    {
      "cell_type": "code",
      "source": [
        "# verify it works\n",
        "import torch\n",
        "\n",
        "for data in dataset:\n",
        "  # stack to make batch size of 2\n",
        "  X = torch.stack([data[0], data[0]])\n",
        "  y = torch.stack([data[1], data[1]])\n",
        "  pred = model(X)\n",
        "  print(pred.shape, y.shape)\n",
        "  print(pred.argmax(axis=1).shape)\n",
        "  break"
      ],
      "metadata": {
        "colab": {
          "base_uri": "https://localhost:8080/"
        },
        "id": "sKe6S0760R2V",
        "outputId": "0483e1e4-20ad-4fa8-cb48-9ded84276caf"
      },
      "execution_count": 16,
      "outputs": [
        {
          "output_type": "stream",
          "name": "stdout",
          "text": [
            "torch.Size([2, 2, 128, 128]) torch.Size([2, 128, 128])\n",
            "torch.Size([2, 128, 128])\n"
          ]
        }
      ]
    },
    {
      "cell_type": "code",
      "source": [
        "import torch\n",
        "\n",
        "device = 'cuda' if torch.cuda.is_available() else 'cpu'\n",
        "device"
      ],
      "metadata": {
        "colab": {
          "base_uri": "https://localhost:8080/",
          "height": 36
        },
        "id": "lAMc2-n68VM5",
        "outputId": "bf44183c-6e83-4c38-91f8-8dcfd2fcd28c"
      },
      "execution_count": 17,
      "outputs": [
        {
          "output_type": "execute_result",
          "data": {
            "text/plain": [
              "'cuda'"
            ],
            "application/vnd.google.colaboratory.intrinsic+json": {
              "type": "string"
            }
          },
          "metadata": {},
          "execution_count": 17
        }
      ]
    },
    {
      "cell_type": "code",
      "source": [
        "dataloader = torch.utils.data.DataLoader(dataset, batch_size=8, shuffle=False, collate_fn=lambda x: x)"
      ],
      "metadata": {
        "id": "vO5f7qRE9E_B"
      },
      "execution_count": 18,
      "outputs": []
    },
    {
      "cell_type": "code",
      "source": [
        "class DiceLoss(torch.nn.Module):\n",
        "  def __init__(self):\n",
        "    super(DiceLoss, self).__init__()\n",
        "\n",
        "  def forward(self, preds, targets):\n",
        "    preds = torch.nn.functional.sigmoid(preds)\n",
        "\n",
        "    preds = preds.contiguous().view(-1)\n",
        "    targets = targets.contiguous().view(-1)\n",
        "\n",
        "    intersection = (preds * targets).sum()\n",
        "    union = preds.sum() + targets.sum()\n",
        "\n",
        "    return 1 - ((2. * intersection + 1) / (union + 1))"
      ],
      "metadata": {
        "id": "TpZECVNeAMwg"
      },
      "execution_count": 71,
      "outputs": []
    },
    {
      "cell_type": "code",
      "source": [
        "from time import time\n",
        "\n",
        "\n",
        "opt = torch.optim.SGD(params=model.parameters())\n",
        "dice_loss = DiceLoss()\n",
        "model.to(device)\n",
        "\n",
        "n_epochs = 500\n",
        "for epoch in range(1, n_epochs+1):\n",
        "  print(f\"Epoch {epoch}\", end='')\n",
        "\n",
        "  start = time()\n",
        "  loss_per_epoch = 0\n",
        "  for batch in dataloader:\n",
        "    X = []\n",
        "    y = []\n",
        "    for data in batch:\n",
        "      X.append(data[0])\n",
        "      y.append(data[1])\n",
        "    X = torch.stack(X)\n",
        "    y = torch.stack(y)\n",
        "\n",
        "    # B x W x H -> B x W x H x 2 -> B x 2 x W x H\n",
        "    y = torch.nn.functional.one_hot(y.long(), num_classes=2).permute(0,3,1,2)\n",
        "\n",
        "    if device == 'cuda':\n",
        "      X = X.cuda()\n",
        "      y = y.cuda()\n",
        "\n",
        "    preds = model(X)\n",
        "\n",
        "    loss = dice_loss(preds, y)\n",
        "    loss_per_epoch += loss\n",
        "\n",
        "    opt.zero_grad()\n",
        "    loss.backward()\n",
        "    opt.step()\n",
        "\n",
        "  end = time()\n",
        "  print(f\" | Loss: {loss_per_epoch} [{end - start:.2f}s]\", end='\\n')"
      ],
      "metadata": {
        "colab": {
          "base_uri": "https://localhost:8080/"
        },
        "id": "mty1lEGl0ziB",
        "outputId": "03168b51-9d6f-42a3-cbda-8687ca898135"
      },
      "execution_count": 79,
      "outputs": [
        {
          "output_type": "stream",
          "name": "stdout",
          "text": [
            "Epoch 1 | Loss: 1.2132916450500488 [0.27s]\n",
            "Epoch 2 | Loss: 1.2080280780792236 [0.21s]\n",
            "Epoch 3 | Loss: 1.2028231620788574 [0.20s]\n",
            "Epoch 4 | Loss: 1.1976745128631592 [0.19s]\n",
            "Epoch 5 | Loss: 1.1925809383392334 [0.19s]\n",
            "Epoch 6 | Loss: 1.187541127204895 [0.19s]\n",
            "Epoch 7 | Loss: 1.1825532913208008 [0.19s]\n",
            "Epoch 8 | Loss: 1.1776164770126343 [0.19s]\n",
            "Epoch 9 | Loss: 1.1727288961410522 [0.19s]\n",
            "Epoch 10 | Loss: 1.1678895950317383 [0.19s]\n",
            "Epoch 11 | Loss: 1.1630971431732178 [0.19s]\n",
            "Epoch 12 | Loss: 1.1583504676818848 [0.19s]\n",
            "Epoch 13 | Loss: 1.1536481380462646 [0.19s]\n",
            "Epoch 14 | Loss: 1.148989200592041 [0.19s]\n",
            "Epoch 15 | Loss: 1.1443724632263184 [0.19s]\n",
            "Epoch 16 | Loss: 1.1397966146469116 [0.19s]\n",
            "Epoch 17 | Loss: 1.1352605819702148 [0.19s]\n",
            "Epoch 18 | Loss: 1.130763053894043 [0.19s]\n",
            "Epoch 19 | Loss: 1.1263035535812378 [0.19s]\n",
            "Epoch 20 | Loss: 1.1218805313110352 [0.19s]\n",
            "Epoch 21 | Loss: 1.1174933910369873 [0.19s]\n",
            "Epoch 22 | Loss: 1.1131408214569092 [0.19s]\n",
            "Epoch 23 | Loss: 1.108821988105774 [0.19s]\n",
            "Epoch 24 | Loss: 1.1045362949371338 [0.19s]\n",
            "Epoch 25 | Loss: 1.1002824306488037 [0.19s]\n",
            "Epoch 26 | Loss: 1.0960595607757568 [0.19s]\n",
            "Epoch 27 | Loss: 1.0918669700622559 [0.19s]\n",
            "Epoch 28 | Loss: 1.0877037048339844 [0.19s]\n",
            "Epoch 29 | Loss: 1.0835692882537842 [0.19s]\n",
            "Epoch 30 | Loss: 1.0794625282287598 [0.19s]\n",
            "Epoch 31 | Loss: 1.0753828287124634 [0.19s]\n",
            "Epoch 32 | Loss: 1.0713293552398682 [0.19s]\n",
            "Epoch 33 | Loss: 1.0673015117645264 [0.19s]\n",
            "Epoch 34 | Loss: 1.0632987022399902 [0.19s]\n",
            "Epoch 35 | Loss: 1.0593199729919434 [0.19s]\n",
            "Epoch 36 | Loss: 1.0553650856018066 [0.19s]\n",
            "Epoch 37 | Loss: 1.0514332056045532 [0.19s]\n",
            "Epoch 38 | Loss: 1.0475234985351562 [0.19s]\n",
            "Epoch 39 | Loss: 1.043635368347168 [0.19s]\n",
            "Epoch 40 | Loss: 1.0397682189941406 [0.19s]\n",
            "Epoch 41 | Loss: 1.0359214544296265 [0.19s]\n",
            "Epoch 42 | Loss: 1.0320947170257568 [0.19s]\n",
            "Epoch 43 | Loss: 1.028287410736084 [0.19s]\n",
            "Epoch 44 | Loss: 1.024498701095581 [0.19s]\n",
            "Epoch 45 | Loss: 1.0207282304763794 [0.19s]\n",
            "Epoch 46 | Loss: 1.0169754028320312 [0.19s]\n",
            "Epoch 47 | Loss: 1.0132396221160889 [0.19s]\n",
            "Epoch 48 | Loss: 1.0095202922821045 [0.19s]\n",
            "Epoch 49 | Loss: 1.005817174911499 [0.20s]\n",
            "Epoch 50 | Loss: 1.0021295547485352 [0.21s]\n",
            "Epoch 51 | Loss: 0.9984570741653442 [0.20s]\n",
            "Epoch 52 | Loss: 0.9947994351387024 [0.21s]\n",
            "Epoch 53 | Loss: 0.9911559820175171 [0.21s]\n",
            "Epoch 54 | Loss: 0.9875262975692749 [0.21s]\n",
            "Epoch 55 | Loss: 0.9839099049568176 [0.21s]\n",
            "Epoch 56 | Loss: 0.9803067445755005 [0.21s]\n",
            "Epoch 57 | Loss: 0.9767157435417175 [0.21s]\n",
            "Epoch 58 | Loss: 0.9731371402740479 [0.21s]\n",
            "Epoch 59 | Loss: 0.9695701599121094 [0.21s]\n",
            "Epoch 60 | Loss: 0.9660143852233887 [0.19s]\n",
            "Epoch 61 | Loss: 0.9624696969985962 [0.20s]\n",
            "Epoch 62 | Loss: 0.9589353799819946 [0.19s]\n",
            "Epoch 63 | Loss: 0.9554117321968079 [0.19s]\n",
            "Epoch 64 | Loss: 0.9518976807594299 [0.19s]\n",
            "Epoch 65 | Loss: 0.9483933448791504 [0.19s]\n",
            "Epoch 66 | Loss: 0.9448983669281006 [0.19s]\n",
            "Epoch 67 | Loss: 0.9414121508598328 [0.19s]\n",
            "Epoch 68 | Loss: 0.9379347562789917 [0.19s]\n",
            "Epoch 69 | Loss: 0.9344652891159058 [0.19s]\n",
            "Epoch 70 | Loss: 0.931003987789154 [0.20s]\n",
            "Epoch 71 | Loss: 0.9275502562522888 [0.19s]\n",
            "Epoch 72 | Loss: 0.9241039752960205 [0.19s]\n",
            "Epoch 73 | Loss: 0.9206647872924805 [0.19s]\n",
            "Epoch 74 | Loss: 0.9172325730323792 [0.19s]\n",
            "Epoch 75 | Loss: 0.9138067960739136 [0.19s]\n",
            "Epoch 76 | Loss: 0.9103873372077942 [0.19s]\n",
            "Epoch 77 | Loss: 0.9069740176200867 [0.20s]\n",
            "Epoch 78 | Loss: 0.9035664200782776 [0.19s]\n",
            "Epoch 79 | Loss: 0.9001645445823669 [0.19s]\n",
            "Epoch 80 | Loss: 0.8967681527137756 [0.19s]\n",
            "Epoch 81 | Loss: 0.8933769464492798 [0.19s]\n",
            "Epoch 82 | Loss: 0.8899902701377869 [0.19s]\n",
            "Epoch 83 | Loss: 0.8866086602210999 [0.19s]\n",
            "Epoch 84 | Loss: 0.8832315802574158 [0.19s]\n",
            "Epoch 85 | Loss: 0.879858672618866 [0.19s]\n",
            "Epoch 86 | Loss: 0.8764899373054504 [0.19s]\n",
            "Epoch 87 | Loss: 0.8731252551078796 [0.19s]\n",
            "Epoch 88 | Loss: 0.8697647452354431 [0.19s]\n",
            "Epoch 89 | Loss: 0.8664079904556274 [0.19s]\n",
            "Epoch 90 | Loss: 0.863054633140564 [0.19s]\n",
            "Epoch 91 | Loss: 0.8597046136856079 [0.19s]\n",
            "Epoch 92 | Loss: 0.8563578724861145 [0.19s]\n",
            "Epoch 93 | Loss: 0.8530139327049255 [0.19s]\n",
            "Epoch 94 | Loss: 0.8496731519699097 [0.19s]\n",
            "Epoch 95 | Loss: 0.8463350534439087 [0.19s]\n",
            "Epoch 96 | Loss: 0.8429992198944092 [0.20s]\n",
            "Epoch 97 | Loss: 0.8396660089492798 [0.19s]\n",
            "Epoch 98 | Loss: 0.8363350033760071 [0.19s]\n",
            "Epoch 99 | Loss: 0.8330062627792358 [0.19s]\n",
            "Epoch 100 | Loss: 0.8296796083450317 [0.19s]\n",
            "Epoch 101 | Loss: 0.8263546228408813 [0.19s]\n",
            "Epoch 102 | Loss: 0.8230316042900085 [0.19s]\n",
            "Epoch 103 | Loss: 0.8197101950645447 [0.19s]\n",
            "Epoch 104 | Loss: 0.8163905143737793 [0.21s]\n",
            "Epoch 105 | Loss: 0.8130720257759094 [0.20s]\n",
            "Epoch 106 | Loss: 0.809755265712738 [0.21s]\n",
            "Epoch 107 | Loss: 0.8064400553703308 [0.21s]\n",
            "Epoch 108 | Loss: 0.8031262159347534 [0.21s]\n",
            "Epoch 109 | Loss: 0.7998133897781372 [0.21s]\n",
            "Epoch 110 | Loss: 0.796501636505127 [0.21s]\n",
            "Epoch 111 | Loss: 0.7931909561157227 [0.21s]\n",
            "Epoch 112 | Loss: 0.7898813486099243 [0.21s]\n",
            "Epoch 113 | Loss: 0.7865727543830872 [0.22s]\n",
            "Epoch 114 | Loss: 0.783264696598053 [0.21s]\n",
            "Epoch 115 | Loss: 0.7799575328826904 [0.19s]\n",
            "Epoch 116 | Loss: 0.7766513228416443 [0.19s]\n",
            "Epoch 117 | Loss: 0.7733458280563354 [0.19s]\n",
            "Epoch 118 | Loss: 0.7700408697128296 [0.19s]\n",
            "Epoch 119 | Loss: 0.7667368054389954 [0.21s]\n",
            "Epoch 120 | Loss: 0.7634333372116089 [0.19s]\n",
            "Epoch 121 | Loss: 0.7601304054260254 [0.19s]\n",
            "Epoch 122 | Loss: 0.7568280696868896 [0.19s]\n",
            "Epoch 123 | Loss: 0.7535260915756226 [0.20s]\n",
            "Epoch 124 | Loss: 0.7502247095108032 [0.20s]\n",
            "Epoch 125 | Loss: 0.7469236254692078 [0.19s]\n",
            "Epoch 126 | Loss: 0.7436229586601257 [0.19s]\n",
            "Epoch 127 | Loss: 0.7403228878974915 [0.19s]\n",
            "Epoch 128 | Loss: 0.7370232939720154 [0.19s]\n",
            "Epoch 129 | Loss: 0.7337237596511841 [0.19s]\n",
            "Epoch 130 | Loss: 0.7304248213768005 [0.19s]\n",
            "Epoch 131 | Loss: 0.7271261811256409 [0.20s]\n",
            "Epoch 132 | Loss: 0.7238274812698364 [0.19s]\n",
            "Epoch 133 | Loss: 0.7205285429954529 [0.19s]\n",
            "Epoch 134 | Loss: 0.7172304391860962 [0.19s]\n",
            "Epoch 135 | Loss: 0.7139329314231873 [0.20s]\n",
            "Epoch 136 | Loss: 0.7106362581253052 [0.19s]\n",
            "Epoch 137 | Loss: 0.7073404788970947 [0.20s]\n",
            "Epoch 138 | Loss: 0.7040456533432007 [0.19s]\n",
            "Epoch 139 | Loss: 0.7007516622543335 [0.19s]\n",
            "Epoch 140 | Loss: 0.6974589228630066 [0.20s]\n",
            "Epoch 141 | Loss: 0.6941671371459961 [0.19s]\n",
            "Epoch 142 | Loss: 0.6908775568008423 [0.19s]\n",
            "Epoch 143 | Loss: 0.687591552734375 [0.19s]\n",
            "Epoch 144 | Loss: 0.6843090653419495 [0.19s]\n",
            "Epoch 145 | Loss: 0.6810293793678284 [0.20s]\n",
            "Epoch 146 | Loss: 0.6777519583702087 [0.19s]\n",
            "Epoch 147 | Loss: 0.6744765043258667 [0.20s]\n",
            "Epoch 148 | Loss: 0.671202540397644 [0.19s]\n",
            "Epoch 149 | Loss: 0.6679302453994751 [0.19s]\n",
            "Epoch 150 | Loss: 0.664659321308136 [0.19s]\n",
            "Epoch 151 | Loss: 0.6613895893096924 [0.19s]\n",
            "Epoch 152 | Loss: 0.6581217646598816 [0.19s]\n",
            "Epoch 153 | Loss: 0.6548553705215454 [0.19s]\n",
            "Epoch 154 | Loss: 0.6515911817550659 [0.20s]\n",
            "Epoch 155 | Loss: 0.6483293175697327 [0.20s]\n",
            "Epoch 156 | Loss: 0.64506995677948 [0.20s]\n",
            "Epoch 157 | Loss: 0.6418132185935974 [0.21s]\n",
            "Epoch 158 | Loss: 0.6385591626167297 [0.21s]\n",
            "Epoch 159 | Loss: 0.6353081464767456 [0.21s]\n",
            "Epoch 160 | Loss: 0.632060170173645 [0.21s]\n",
            "Epoch 161 | Loss: 0.6288153529167175 [0.21s]\n",
            "Epoch 162 | Loss: 0.6255739331245422 [0.21s]\n",
            "Epoch 163 | Loss: 0.6223363280296326 [0.21s]\n",
            "Epoch 164 | Loss: 0.6191025376319885 [0.21s]\n",
            "Epoch 165 | Loss: 0.6158728003501892 [0.21s]\n",
            "Epoch 166 | Loss: 0.6126478910446167 [0.21s]\n",
            "Epoch 167 | Loss: 0.6094292998313904 [0.23s]\n",
            "Epoch 168 | Loss: 0.6062156558036804 [0.20s]\n",
            "Epoch 169 | Loss: 0.6030082106590271 [0.19s]\n",
            "Epoch 170 | Loss: 0.5998080372810364 [0.19s]\n",
            "Epoch 171 | Loss: 0.5966131091117859 [0.20s]\n",
            "Epoch 172 | Loss: 0.5934237241744995 [0.19s]\n",
            "Epoch 173 | Loss: 0.5902395844459534 [0.19s]\n",
            "Epoch 174 | Loss: 0.5870600938796997 [0.19s]\n",
            "Epoch 175 | Loss: 0.5838855504989624 [0.19s]\n",
            "Epoch 176 | Loss: 0.580716073513031 [0.19s]\n",
            "Epoch 177 | Loss: 0.5775516033172607 [0.19s]\n",
            "Epoch 178 | Loss: 0.5743923783302307 [0.19s]\n",
            "Epoch 179 | Loss: 0.5712385773658752 [0.20s]\n",
            "Epoch 180 | Loss: 0.5680904984474182 [0.19s]\n",
            "Epoch 181 | Loss: 0.5649482011795044 [0.19s]\n",
            "Epoch 182 | Loss: 0.5618116855621338 [0.19s]\n",
            "Epoch 183 | Loss: 0.558681070804596 [0.19s]\n",
            "Epoch 184 | Loss: 0.5555567145347595 [0.19s]\n",
            "Epoch 185 | Loss: 0.5524388551712036 [0.19s]\n",
            "Epoch 186 | Loss: 0.5493273138999939 [0.19s]\n",
            "Epoch 187 | Loss: 0.5462225079536438 [0.19s]\n",
            "Epoch 188 | Loss: 0.5431244969367981 [0.19s]\n",
            "Epoch 189 | Loss: 0.5400334000587463 [0.20s]\n",
            "Epoch 190 | Loss: 0.5369493365287781 [0.19s]\n",
            "Epoch 191 | Loss: 0.5338726043701172 [0.19s]\n",
            "Epoch 192 | Loss: 0.530803382396698 [0.20s]\n",
            "Epoch 193 | Loss: 0.5277414917945862 [0.19s]\n",
            "Epoch 194 | Loss: 0.5246875286102295 [0.19s]\n",
            "Epoch 195 | Loss: 0.5216414332389832 [0.19s]\n",
            "Epoch 196 | Loss: 0.5186032652854919 [0.19s]\n",
            "Epoch 197 | Loss: 0.5155733227729797 [0.19s]\n",
            "Epoch 198 | Loss: 0.5125518441200256 [0.19s]\n",
            "Epoch 199 | Loss: 0.5095387697219849 [0.19s]\n",
            "Epoch 200 | Loss: 0.5065342783927917 [0.19s]\n",
            "Epoch 201 | Loss: 0.503538966178894 [0.19s]\n",
            "Epoch 202 | Loss: 0.500552773475647 [0.20s]\n",
            "Epoch 203 | Loss: 0.49757593870162964 [0.19s]\n",
            "Epoch 204 | Loss: 0.4946087598800659 [0.19s]\n",
            "Epoch 205 | Loss: 0.4916510581970215 [0.20s]\n",
            "Epoch 206 | Loss: 0.48870277404785156 [0.19s]\n",
            "Epoch 207 | Loss: 0.48576438426971436 [0.19s]\n",
            "Epoch 208 | Loss: 0.4828358292579651 [0.19s]\n",
            "Epoch 209 | Loss: 0.4799172878265381 [0.19s]\n",
            "Epoch 210 | Loss: 0.4770091772079468 [0.19s]\n",
            "Epoch 211 | Loss: 0.4741113781929016 [0.20s]\n",
            "Epoch 212 | Loss: 0.47122418880462646 [0.21s]\n",
            "Epoch 213 | Loss: 0.468347430229187 [0.21s]\n",
            "Epoch 214 | Loss: 0.46548163890838623 [0.21s]\n",
            "Epoch 215 | Loss: 0.4626268148422241 [0.21s]\n",
            "Epoch 216 | Loss: 0.4597829580307007 [0.21s]\n",
            "Epoch 217 | Loss: 0.4569506049156189 [0.21s]\n",
            "Epoch 218 | Loss: 0.45412933826446533 [0.21s]\n",
            "Epoch 219 | Loss: 0.4513198137283325 [0.21s]\n",
            "Epoch 220 | Loss: 0.4485217332839966 [0.21s]\n",
            "Epoch 221 | Loss: 0.44573545455932617 [0.21s]\n",
            "Epoch 222 | Loss: 0.4429612159729004 [0.22s]\n",
            "Epoch 223 | Loss: 0.44019919633865356 [0.21s]\n",
            "Epoch 224 | Loss: 0.43744903802871704 [0.19s]\n",
            "Epoch 225 | Loss: 0.4347115755081177 [0.19s]\n",
            "Epoch 226 | Loss: 0.4319862723350525 [0.19s]\n",
            "Epoch 227 | Loss: 0.42927390336990356 [0.19s]\n",
            "Epoch 228 | Loss: 0.42657387256622314 [0.19s]\n",
            "Epoch 229 | Loss: 0.4238870143890381 [0.19s]\n",
            "Epoch 230 | Loss: 0.42121291160583496 [0.19s]\n",
            "Epoch 231 | Loss: 0.4185519218444824 [0.19s]\n",
            "Epoch 232 | Loss: 0.4159044027328491 [0.19s]\n",
            "Epoch 233 | Loss: 0.4132702946662903 [0.19s]\n",
            "Epoch 234 | Loss: 0.41064977645874023 [0.19s]\n",
            "Epoch 235 | Loss: 0.4080427885055542 [0.19s]\n",
            "Epoch 236 | Loss: 0.40544915199279785 [0.19s]\n",
            "Epoch 237 | Loss: 0.4028693437576294 [0.19s]\n",
            "Epoch 238 | Loss: 0.40030330419540405 [0.19s]\n",
            "Epoch 239 | Loss: 0.3977510333061218 [0.19s]\n",
            "Epoch 240 | Loss: 0.39521294832229614 [0.19s]\n",
            "Epoch 241 | Loss: 0.3926889896392822 [0.19s]\n",
            "Epoch 242 | Loss: 0.39017927646636963 [0.19s]\n",
            "Epoch 243 | Loss: 0.3876838684082031 [0.19s]\n",
            "Epoch 244 | Loss: 0.3852027654647827 [0.19s]\n",
            "Epoch 245 | Loss: 0.3827362060546875 [0.19s]\n",
            "Epoch 246 | Loss: 0.38028407096862793 [0.19s]\n",
            "Epoch 247 | Loss: 0.3778468370437622 [0.19s]\n",
            "Epoch 248 | Loss: 0.375424861907959 [0.19s]\n",
            "Epoch 249 | Loss: 0.3730223774909973 [0.19s]\n",
            "Epoch 250 | Loss: 0.37063878774642944 [0.19s]\n",
            "Epoch 251 | Loss: 0.3682733178138733 [0.19s]\n",
            "Epoch 252 | Loss: 0.36592501401901245 [0.19s]\n",
            "Epoch 253 | Loss: 0.36359304189682007 [0.19s]\n",
            "Epoch 254 | Loss: 0.36127638816833496 [0.19s]\n",
            "Epoch 255 | Loss: 0.3589738607406616 [0.19s]\n",
            "Epoch 256 | Loss: 0.35668522119522095 [0.19s]\n",
            "Epoch 257 | Loss: 0.3544110655784607 [0.19s]\n",
            "Epoch 258 | Loss: 0.3521512746810913 [0.19s]\n",
            "Epoch 259 | Loss: 0.34990590810775757 [0.19s]\n",
            "Epoch 260 | Loss: 0.3476749062538147 [0.19s]\n",
            "Epoch 261 | Loss: 0.3454588055610657 [0.20s]\n",
            "Epoch 262 | Loss: 0.3432568311691284 [0.19s]\n",
            "Epoch 263 | Loss: 0.341069757938385 [0.19s]\n",
            "Epoch 264 | Loss: 0.3388974666595459 [0.19s]\n",
            "Epoch 265 | Loss: 0.33673954010009766 [0.19s]\n",
            "Epoch 266 | Loss: 0.3345962166786194 [0.19s]\n",
            "Epoch 267 | Loss: 0.33246737718582153 [0.21s]\n",
            "Epoch 268 | Loss: 0.3303530216217041 [0.21s]\n",
            "Epoch 269 | Loss: 0.32825326919555664 [0.21s]\n",
            "Epoch 270 | Loss: 0.3261677026748657 [0.21s]\n",
            "Epoch 271 | Loss: 0.3240969777107239 [0.21s]\n",
            "Epoch 272 | Loss: 0.3220403790473938 [0.21s]\n",
            "Epoch 273 | Loss: 0.3199983239173889 [0.21s]\n",
            "Epoch 274 | Loss: 0.3179706931114197 [0.21s]\n",
            "Epoch 275 | Loss: 0.31595730781555176 [0.21s]\n",
            "Epoch 276 | Loss: 0.31395822763442993 [0.21s]\n",
            "Epoch 277 | Loss: 0.311973512172699 [0.21s]\n",
            "Epoch 278 | Loss: 0.3100022077560425 [0.21s]\n",
            "Epoch 279 | Loss: 0.3080449104309082 [0.20s]\n",
            "Epoch 280 | Loss: 0.30610191822052 [0.19s]\n",
            "Epoch 281 | Loss: 0.30417299270629883 [0.19s]\n",
            "Epoch 282 | Loss: 0.30225813388824463 [0.19s]\n",
            "Epoch 283 | Loss: 0.3003575801849365 [0.19s]\n",
            "Epoch 284 | Loss: 0.2984711527824402 [0.19s]\n",
            "Epoch 285 | Loss: 0.2965986728668213 [0.19s]\n",
            "Epoch 286 | Loss: 0.29474014043807983 [0.19s]\n",
            "Epoch 287 | Loss: 0.2928955554962158 [0.19s]\n",
            "Epoch 288 | Loss: 0.2910650372505188 [0.19s]\n",
            "Epoch 289 | Loss: 0.28924840688705444 [0.19s]\n",
            "Epoch 290 | Loss: 0.2874455451965332 [0.19s]\n",
            "Epoch 291 | Loss: 0.2856566905975342 [0.19s]\n",
            "Epoch 292 | Loss: 0.28388160467147827 [0.19s]\n",
            "Epoch 293 | Loss: 0.28212058544158936 [0.19s]\n",
            "Epoch 294 | Loss: 0.28037381172180176 [0.19s]\n",
            "Epoch 295 | Loss: 0.2786412239074707 [0.19s]\n",
            "Epoch 296 | Loss: 0.27692317962646484 [0.19s]\n",
            "Epoch 297 | Loss: 0.2752189040184021 [0.19s]\n",
            "Epoch 298 | Loss: 0.2735287547111511 [0.19s]\n",
            "Epoch 299 | Loss: 0.2718518376350403 [0.19s]\n",
            "Epoch 300 | Loss: 0.27018845081329346 [0.19s]\n",
            "Epoch 301 | Loss: 0.26853829622268677 [0.19s]\n",
            "Epoch 302 | Loss: 0.2669016718864441 [0.19s]\n",
            "Epoch 303 | Loss: 0.265278160572052 [0.19s]\n",
            "Epoch 304 | Loss: 0.26366764307022095 [0.19s]\n",
            "Epoch 305 | Loss: 0.2620701193809509 [0.19s]\n",
            "Epoch 306 | Loss: 0.2604856491088867 [0.19s]\n",
            "Epoch 307 | Loss: 0.258914053440094 [0.19s]\n",
            "Epoch 308 | Loss: 0.257355272769928 [0.19s]\n",
            "Epoch 309 | Loss: 0.2558091878890991 [0.20s]\n",
            "Epoch 310 | Loss: 0.25427567958831787 [0.19s]\n",
            "Epoch 311 | Loss: 0.25275474786758423 [0.19s]\n",
            "Epoch 312 | Loss: 0.2512463927268982 [0.19s]\n",
            "Epoch 313 | Loss: 0.24975043535232544 [0.20s]\n",
            "Epoch 314 | Loss: 0.24826669692993164 [0.19s]\n",
            "Epoch 315 | Loss: 0.24679535627365112 [0.19s]\n",
            "Epoch 316 | Loss: 0.24533623456954956 [0.19s]\n",
            "Epoch 317 | Loss: 0.24388927221298218 [0.19s]\n",
            "Epoch 318 | Loss: 0.24245423078536987 [0.19s]\n",
            "Epoch 319 | Loss: 0.24103140830993652 [0.19s]\n",
            "Epoch 320 | Loss: 0.23962050676345825 [0.19s]\n",
            "Epoch 321 | Loss: 0.23822134733200073 [0.19s]\n",
            "Epoch 322 | Loss: 0.23683416843414307 [0.19s]\n",
            "Epoch 323 | Loss: 0.23545849323272705 [0.19s]\n",
            "Epoch 324 | Loss: 0.23409461975097656 [0.21s]\n",
            "Epoch 325 | Loss: 0.2327423095703125 [0.21s]\n",
            "Epoch 326 | Loss: 0.23140132427215576 [0.21s]\n",
            "Epoch 327 | Loss: 0.23007172346115112 [0.21s]\n",
            "Epoch 328 | Loss: 0.22875362634658813 [0.21s]\n",
            "Epoch 329 | Loss: 0.22744643688201904 [0.21s]\n",
            "Epoch 330 | Loss: 0.2261505126953125 [0.20s]\n",
            "Epoch 331 | Loss: 0.2248658537864685 [0.21s]\n",
            "Epoch 332 | Loss: 0.22359204292297363 [0.21s]\n",
            "Epoch 333 | Loss: 0.22232913970947266 [0.21s]\n",
            "Epoch 334 | Loss: 0.22107720375061035 [0.21s]\n",
            "Epoch 335 | Loss: 0.21983587741851807 [0.21s]\n",
            "Epoch 336 | Loss: 0.2186051607131958 [0.21s]\n",
            "Epoch 337 | Loss: 0.21738529205322266 [0.19s]\n",
            "Epoch 338 | Loss: 0.21617591381072998 [0.19s]\n",
            "Epoch 339 | Loss: 0.21497678756713867 [0.19s]\n",
            "Epoch 340 | Loss: 0.21378809213638306 [0.19s]\n",
            "Epoch 341 | Loss: 0.2126096487045288 [0.19s]\n",
            "Epoch 342 | Loss: 0.21144163608551025 [0.19s]\n",
            "Epoch 343 | Loss: 0.21028363704681396 [0.19s]\n",
            "Epoch 344 | Loss: 0.2091355323791504 [0.19s]\n",
            "Epoch 345 | Loss: 0.20799767971038818 [0.19s]\n",
            "Epoch 346 | Loss: 0.20686954259872437 [0.19s]\n",
            "Epoch 347 | Loss: 0.20575135946273804 [0.19s]\n",
            "Epoch 348 | Loss: 0.20464277267456055 [0.19s]\n",
            "Epoch 349 | Loss: 0.20354372262954712 [0.19s]\n",
            "Epoch 350 | Loss: 0.20245462656021118 [0.19s]\n",
            "Epoch 351 | Loss: 0.20137476921081543 [0.19s]\n",
            "Epoch 352 | Loss: 0.20030426979064941 [0.19s]\n",
            "Epoch 353 | Loss: 0.19924336671829224 [0.19s]\n",
            "Epoch 354 | Loss: 0.1981915831565857 [0.19s]\n",
            "Epoch 355 | Loss: 0.19714897871017456 [0.19s]\n",
            "Epoch 356 | Loss: 0.1961153745651245 [0.19s]\n",
            "Epoch 357 | Loss: 0.19509100914001465 [0.19s]\n",
            "Epoch 358 | Loss: 0.19407552480697632 [0.19s]\n",
            "Epoch 359 | Loss: 0.19306880235671997 [0.19s]\n",
            "Epoch 360 | Loss: 0.19207102060317993 [0.19s]\n",
            "Epoch 361 | Loss: 0.19108211994171143 [0.19s]\n",
            "Epoch 362 | Loss: 0.19010168313980103 [0.19s]\n",
            "Epoch 363 | Loss: 0.18912994861602783 [0.19s]\n",
            "Epoch 364 | Loss: 0.1881667971611023 [0.19s]\n",
            "Epoch 365 | Loss: 0.1872120499610901 [0.19s]\n",
            "Epoch 366 | Loss: 0.18626582622528076 [0.19s]\n",
            "Epoch 367 | Loss: 0.18532788753509521 [0.19s]\n",
            "Epoch 368 | Loss: 0.1843978762626648 [0.19s]\n",
            "Epoch 369 | Loss: 0.18347615003585815 [0.19s]\n",
            "Epoch 370 | Loss: 0.18256241083145142 [0.20s]\n",
            "Epoch 371 | Loss: 0.18165677785873413 [0.19s]\n",
            "Epoch 372 | Loss: 0.18075913190841675 [0.19s]\n",
            "Epoch 373 | Loss: 0.17986923456192017 [0.19s]\n",
            "Epoch 374 | Loss: 0.17898720502853394 [0.19s]\n",
            "Epoch 375 | Loss: 0.17811310291290283 [0.19s]\n",
            "Epoch 376 | Loss: 0.1772468090057373 [0.19s]\n",
            "Epoch 377 | Loss: 0.17638802528381348 [0.19s]\n",
            "Epoch 378 | Loss: 0.175537109375 [0.19s]\n",
            "Epoch 379 | Loss: 0.17469382286071777 [0.19s]\n",
            "Epoch 380 | Loss: 0.1738579273223877 [0.20s]\n",
            "Epoch 381 | Loss: 0.17302972078323364 [0.20s]\n",
            "Epoch 382 | Loss: 0.1722087264060974 [0.21s]\n",
            "Epoch 383 | Loss: 0.17139548063278198 [0.21s]\n",
            "Epoch 384 | Loss: 0.17058968544006348 [0.21s]\n",
            "Epoch 385 | Loss: 0.16979146003723145 [0.21s]\n",
            "Epoch 386 | Loss: 0.169000506401062 [0.20s]\n",
            "Epoch 387 | Loss: 0.16821694374084473 [0.21s]\n",
            "Epoch 388 | Loss: 0.1674402356147766 [0.21s]\n",
            "Epoch 389 | Loss: 0.16667044162750244 [0.21s]\n",
            "Epoch 390 | Loss: 0.16590756177902222 [0.21s]\n",
            "Epoch 391 | Loss: 0.16515123844146729 [0.21s]\n",
            "Epoch 392 | Loss: 0.16440153121948242 [0.20s]\n",
            "Epoch 393 | Loss: 0.16365820169448853 [0.19s]\n",
            "Epoch 394 | Loss: 0.16292136907577515 [0.19s]\n",
            "Epoch 395 | Loss: 0.16219085454940796 [0.19s]\n",
            "Epoch 396 | Loss: 0.1614667773246765 [0.19s]\n",
            "Epoch 397 | Loss: 0.16074877977371216 [0.19s]\n",
            "Epoch 398 | Loss: 0.16003698110580444 [0.19s]\n",
            "Epoch 399 | Loss: 0.15933126211166382 [0.19s]\n",
            "Epoch 400 | Loss: 0.15863150358200073 [0.19s]\n",
            "Epoch 401 | Loss: 0.15793782472610474 [0.19s]\n",
            "Epoch 402 | Loss: 0.15724998712539673 [0.19s]\n",
            "Epoch 403 | Loss: 0.15656816959381104 [0.19s]\n",
            "Epoch 404 | Loss: 0.15589213371276855 [0.19s]\n",
            "Epoch 405 | Loss: 0.1552218794822693 [0.19s]\n",
            "Epoch 406 | Loss: 0.1545572280883789 [0.19s]\n",
            "Epoch 407 | Loss: 0.15389829874038696 [0.19s]\n",
            "Epoch 408 | Loss: 0.15324485301971436 [0.19s]\n",
            "Epoch 409 | Loss: 0.15259701013565063 [0.19s]\n",
            "Epoch 410 | Loss: 0.15195482969284058 [0.19s]\n",
            "Epoch 411 | Loss: 0.1513177752494812 [0.19s]\n",
            "Epoch 412 | Loss: 0.15068620443344116 [0.19s]\n",
            "Epoch 413 | Loss: 0.15006011724472046 [0.19s]\n",
            "Epoch 414 | Loss: 0.14943933486938477 [0.19s]\n",
            "Epoch 415 | Loss: 0.14882367849349976 [0.19s]\n",
            "Epoch 416 | Loss: 0.1482132077217102 [0.19s]\n",
            "Epoch 417 | Loss: 0.14760780334472656 [0.20s]\n",
            "Epoch 418 | Loss: 0.14700758457183838 [0.19s]\n",
            "Epoch 419 | Loss: 0.14641231298446655 [0.19s]\n",
            "Epoch 420 | Loss: 0.1458221673965454 [0.19s]\n",
            "Epoch 421 | Loss: 0.1452367901802063 [0.19s]\n",
            "Epoch 422 | Loss: 0.14465636014938354 [0.19s]\n",
            "Epoch 423 | Loss: 0.14408087730407715 [0.19s]\n",
            "Epoch 424 | Loss: 0.14351028203964233 [0.19s]\n",
            "Epoch 425 | Loss: 0.14294415712356567 [0.19s]\n",
            "Epoch 426 | Loss: 0.14238297939300537 [0.19s]\n",
            "Epoch 427 | Loss: 0.14182639122009277 [0.19s]\n",
            "Epoch 428 | Loss: 0.14127439260482788 [0.19s]\n",
            "Epoch 429 | Loss: 0.14072692394256592 [0.19s]\n",
            "Epoch 430 | Loss: 0.14018404483795166 [0.19s]\n",
            "Epoch 431 | Loss: 0.13964563608169556 [0.19s]\n",
            "Epoch 432 | Loss: 0.13911175727844238 [0.19s]\n",
            "Epoch 433 | Loss: 0.1385822296142578 [0.19s]\n",
            "Epoch 434 | Loss: 0.1380571722984314 [0.19s]\n",
            "Epoch 435 | Loss: 0.13753622770309448 [0.19s]\n",
            "Epoch 436 | Loss: 0.13701969385147095 [0.19s]\n",
            "Epoch 437 | Loss: 0.1365073323249817 [0.21s]\n",
            "Epoch 438 | Loss: 0.1359991431236267 [0.21s]\n",
            "Epoch 439 | Loss: 0.13549506664276123 [0.21s]\n",
            "Epoch 440 | Loss: 0.13499534130096436 [0.21s]\n",
            "Epoch 441 | Loss: 0.13449960947036743 [0.21s]\n",
            "Epoch 442 | Loss: 0.13400781154632568 [0.21s]\n",
            "Epoch 443 | Loss: 0.1335200071334839 [0.22s]\n",
            "Epoch 444 | Loss: 0.1330363154411316 [0.21s]\n",
            "Epoch 445 | Loss: 0.13255655765533447 [0.21s]\n",
            "Epoch 446 | Loss: 0.13208025693893433 [0.21s]\n",
            "Epoch 447 | Loss: 0.131608247756958 [0.21s]\n",
            "Epoch 448 | Loss: 0.13113993406295776 [0.19s]\n",
            "Epoch 449 | Loss: 0.13067537546157837 [0.19s]\n",
            "Epoch 450 | Loss: 0.13021451234817505 [0.19s]\n",
            "Epoch 451 | Loss: 0.12975752353668213 [0.19s]\n",
            "Epoch 452 | Loss: 0.1293039321899414 [0.19s]\n",
            "Epoch 453 | Loss: 0.12885421514511108 [0.19s]\n",
            "Epoch 454 | Loss: 0.12840783596038818 [0.19s]\n",
            "Epoch 455 | Loss: 0.12796515226364136 [0.19s]\n",
            "Epoch 456 | Loss: 0.12752622365951538 [0.20s]\n",
            "Epoch 457 | Loss: 0.12709057331085205 [0.19s]\n",
            "Epoch 458 | Loss: 0.12665826082229614 [0.19s]\n",
            "Epoch 459 | Loss: 0.1262296438217163 [0.19s]\n",
            "Epoch 460 | Loss: 0.12580406665802002 [0.19s]\n",
            "Epoch 461 | Loss: 0.12538206577301025 [0.20s]\n",
            "Epoch 462 | Loss: 0.12496364116668701 [0.19s]\n",
            "Epoch 463 | Loss: 0.12454837560653687 [0.19s]\n",
            "Epoch 464 | Loss: 0.12413614988327026 [0.19s]\n",
            "Epoch 465 | Loss: 0.12372726202011108 [0.19s]\n",
            "Epoch 466 | Loss: 0.12332165241241455 [0.19s]\n",
            "Epoch 467 | Loss: 0.12291920185089111 [0.19s]\n",
            "Epoch 468 | Loss: 0.122519850730896 [0.19s]\n",
            "Epoch 469 | Loss: 0.12212353944778442 [0.19s]\n",
            "Epoch 470 | Loss: 0.1217305064201355 [0.19s]\n",
            "Epoch 471 | Loss: 0.12134045362472534 [0.19s]\n",
            "Epoch 472 | Loss: 0.12095338106155396 [0.19s]\n",
            "Epoch 473 | Loss: 0.12056934833526611 [0.20s]\n",
            "Epoch 474 | Loss: 0.12018823623657227 [0.19s]\n",
            "Epoch 475 | Loss: 0.11981016397476196 [0.19s]\n",
            "Epoch 476 | Loss: 0.1194348931312561 [0.19s]\n",
            "Epoch 477 | Loss: 0.11906260251998901 [0.19s]\n",
            "Epoch 478 | Loss: 0.11869323253631592 [0.19s]\n",
            "Epoch 479 | Loss: 0.11832660436630249 [0.19s]\n",
            "Epoch 480 | Loss: 0.1179627776145935 [0.19s]\n",
            "Epoch 481 | Loss: 0.11760175228118896 [0.19s]\n",
            "Epoch 482 | Loss: 0.11724346876144409 [0.19s]\n",
            "Epoch 483 | Loss: 0.11688786745071411 [0.19s]\n",
            "Epoch 484 | Loss: 0.1165350079536438 [0.19s]\n",
            "Epoch 485 | Loss: 0.11618489027023315 [0.19s]\n",
            "Epoch 486 | Loss: 0.11583739519119263 [0.19s]\n",
            "Epoch 487 | Loss: 0.11549270153045654 [0.19s]\n",
            "Epoch 488 | Loss: 0.11515027284622192 [0.19s]\n",
            "Epoch 489 | Loss: 0.11481058597564697 [0.19s]\n",
            "Epoch 490 | Loss: 0.11447352170944214 [0.19s]\n",
            "Epoch 491 | Loss: 0.11413878202438354 [0.21s]\n",
            "Epoch 492 | Loss: 0.11380672454833984 [0.21s]\n",
            "Epoch 493 | Loss: 0.11347717046737671 [0.21s]\n",
            "Epoch 494 | Loss: 0.11314988136291504 [0.21s]\n",
            "Epoch 495 | Loss: 0.11282527446746826 [0.21s]\n",
            "Epoch 496 | Loss: 0.1125030517578125 [0.21s]\n",
            "Epoch 497 | Loss: 0.11218303442001343 [0.21s]\n",
            "Epoch 498 | Loss: 0.1118655800819397 [0.21s]\n",
            "Epoch 499 | Loss: 0.11155039072036743 [0.21s]\n",
            "Epoch 500 | Loss: 0.1112375259399414 [0.22s]\n"
          ]
        }
      ]
    },
    {
      "cell_type": "code",
      "source": [
        "torch.save(model.state_dict(), './trained-unet.pth')"
      ],
      "metadata": {
        "id": "0Gyk7I4REC-C"
      },
      "execution_count": 80,
      "outputs": []
    },
    {
      "cell_type": "code",
      "source": [
        "model.load_state_dict(torch.load('./trained-unet.pth', weights_only=True))\n",
        "model.eval()"
      ],
      "metadata": {
        "colab": {
          "base_uri": "https://localhost:8080/"
        },
        "id": "SEpnSsNuEJWZ",
        "outputId": "9f65e45a-7fab-4dd6-88c4-15b4691b393f"
      },
      "execution_count": 81,
      "outputs": [
        {
          "output_type": "execute_result",
          "data": {
            "text/plain": [
              "UNet(\n",
              "  (conv11): Conv2d(3, 64, kernel_size=(3, 3), stride=(1, 1), padding=(1, 1))\n",
              "  (conv12): Conv2d(64, 64, kernel_size=(3, 3), stride=(1, 1), padding=(1, 1))\n",
              "  (pool1): MaxPool2d(kernel_size=2, stride=2, padding=0, dilation=1, ceil_mode=False)\n",
              "  (conv21): Conv2d(64, 128, kernel_size=(3, 3), stride=(1, 1), padding=(1, 1))\n",
              "  (conv22): Conv2d(128, 128, kernel_size=(3, 3), stride=(1, 1), padding=(1, 1))\n",
              "  (pool2): MaxPool2d(kernel_size=2, stride=2, padding=0, dilation=1, ceil_mode=False)\n",
              "  (conv31): Conv2d(128, 256, kernel_size=(3, 3), stride=(1, 1), padding=(1, 1))\n",
              "  (conv32): Conv2d(256, 256, kernel_size=(3, 3), stride=(1, 1), padding=(1, 1))\n",
              "  (pool3): MaxPool2d(kernel_size=2, stride=2, padding=0, dilation=1, ceil_mode=False)\n",
              "  (conv41): Conv2d(256, 512, kernel_size=(3, 3), stride=(1, 1), padding=(1, 1))\n",
              "  (conv42): Conv2d(512, 512, kernel_size=(3, 3), stride=(1, 1), padding=(1, 1))\n",
              "  (convT1): ConvTranspose2d(512, 256, kernel_size=(2, 2), stride=(2, 2))\n",
              "  (convDec11): Conv2d(512, 256, kernel_size=(3, 3), stride=(1, 1), padding=(1, 1))\n",
              "  (convDec12): Conv2d(256, 256, kernel_size=(3, 3), stride=(1, 1), padding=(1, 1))\n",
              "  (convT2): ConvTranspose2d(256, 128, kernel_size=(2, 2), stride=(2, 2))\n",
              "  (convDec21): Conv2d(256, 128, kernel_size=(3, 3), stride=(1, 1), padding=(1, 1))\n",
              "  (convDec22): Conv2d(128, 128, kernel_size=(3, 3), stride=(1, 1), padding=(1, 1))\n",
              "  (convT3): ConvTranspose2d(128, 64, kernel_size=(2, 2), stride=(2, 2))\n",
              "  (convDec31): Conv2d(128, 64, kernel_size=(3, 3), stride=(1, 1), padding=(1, 1))\n",
              "  (convDec32): Conv2d(64, 64, kernel_size=(3, 3), stride=(1, 1), padding=(1, 1))\n",
              "  (convFinal): Conv2d(64, 2, kernel_size=(1, 1), stride=(1, 1))\n",
              ")"
            ]
          },
          "metadata": {},
          "execution_count": 81
        }
      ]
    },
    {
      "cell_type": "code",
      "source": [
        "X = []\n",
        "y = []\n",
        "preds = None\n",
        "for batch in dataloader:\n",
        "  for data in batch:\n",
        "    X.append(data[0])\n",
        "    y.append(data[1])\n",
        "  X = torch.stack(X)\n",
        "  y = torch.stack(y)\n",
        "\n",
        "  y = torch.nn.functional.one_hot(y.long(), num_classes=2).permute(0,3,1,2)\n",
        "\n",
        "  if device == 'cuda':\n",
        "    X = X.cuda()\n",
        "    y = y.cuda()\n",
        "\n",
        "  preds = model(X)\n",
        "  break"
      ],
      "metadata": {
        "id": "otroD4bPEQPR"
      },
      "execution_count": 82,
      "outputs": []
    },
    {
      "cell_type": "code",
      "source": [
        "preds.shape, y.shape"
      ],
      "metadata": {
        "colab": {
          "base_uri": "https://localhost:8080/"
        },
        "id": "eOOMex3kEmH5",
        "outputId": "61a72192-2ed0-46fd-a66a-f76df4cf9c5b"
      },
      "execution_count": 83,
      "outputs": [
        {
          "output_type": "execute_result",
          "data": {
            "text/plain": [
              "(torch.Size([8, 2, 128, 128]), torch.Size([8, 2, 128, 128]))"
            ]
          },
          "metadata": {},
          "execution_count": 83
        }
      ]
    },
    {
      "cell_type": "code",
      "source": [
        "from torchmetrics import Dice, JaccardIndex\n",
        "\n",
        "dice = Dice().to(device)\n",
        "iou = JaccardIndex(task='multiclass', num_classes=2).to(device)\n",
        "dice(preds, y), iou(torch.nn.functional.sigmoid(preds), y)"
      ],
      "metadata": {
        "colab": {
          "base_uri": "https://localhost:8080/"
        },
        "id": "3A4SyFkL_GTk",
        "outputId": "0cbc7b02-0c50-4820-82fe-5cddcb4d99f4"
      },
      "execution_count": 112,
      "outputs": [
        {
          "output_type": "execute_result",
          "data": {
            "text/plain": [
              "(tensor(0.9770, device='cuda:0'), tensor(0.2500, device='cuda:0'))"
            ]
          },
          "metadata": {},
          "execution_count": 112
        }
      ]
    },
    {
      "cell_type": "code",
      "source": [
        "import matplotlib.pyplot as plt\n",
        "\n",
        "\n",
        "num = 1\n",
        "\n",
        "# print(X.shape, y.shape)\n",
        "img = X[num].permute(1,2,0).cpu()\n",
        "target = y[num].permute(1,2,0).argmax(axis=-1).cpu()\n",
        "predicted = torch.nn.functional.sigmoid(preds[num].permute(1,2,0)).argmax(axis=-1).cpu()\n",
        "# print(img.shape, target.shape, predicted.shape)\n",
        "print(target.max(), predicted.max())\n",
        "\n",
        "\n",
        "fig, ax = plt.subplots(1,3)\n",
        "ax = ax.ravel()\n",
        "\n",
        "ax[0].imshow(img)\n",
        "ax[1].imshow(target)\n",
        "ax[2].imshow(predicted)\n",
        "plt.show()"
      ],
      "metadata": {
        "colab": {
          "base_uri": "https://localhost:8080/",
          "height": 228
        },
        "id": "PtGjdeYIEebf",
        "outputId": "0f29229a-3af1-406f-bd0e-c7cb6b5ccb2d"
      },
      "execution_count": 108,
      "outputs": [
        {
          "output_type": "stream",
          "name": "stdout",
          "text": [
            "tensor(1) tensor(0)\n"
          ]
        },
        {
          "output_type": "display_data",
          "data": {
            "text/plain": [
              "<Figure size 640x480 with 3 Axes>"
            ],
            "image/png": "[encoded data removed]"
          },
          "metadata": {}
        }
      ]
    },
    {
      "cell_type": "code",
      "source": [],
      "metadata": {
        "id": "Fs_OfvDVGB5h"
      },
      "execution_count": 106,
      "outputs": []
    }
  ]
}