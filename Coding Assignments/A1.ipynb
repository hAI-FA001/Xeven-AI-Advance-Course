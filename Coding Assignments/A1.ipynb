{
 "cells": [
  {
   "cell_type": "code",
   "execution_count": 1,
   "metadata": {},
   "outputs": [
    {
     "name": "stdout",
     "output_type": "stream",
     "text": [
      "mango\n",
      "apple\n",
      "banana\n"
     ]
    }
   ],
   "source": [
    "fruits = ['mango', 'apple', 'banana']\n",
    "for fruit in fruits: print(fruit)"
   ]
  },
  {
   "cell_type": "code",
   "execution_count": 2,
   "metadata": {},
   "outputs": [
    {
     "name": "stdout",
     "output_type": "stream",
     "text": [
      "1\n",
      "2\n",
      "3\n",
      "4\n",
      "5\n"
     ]
    }
   ],
   "source": [
    "numbers = (1,2,3,4,5)\n",
    "for num in numbers: print(num)"
   ]
  },
  {
   "cell_type": "code",
   "execution_count": 3,
   "metadata": {},
   "outputs": [
    {
     "name": "stdout",
     "output_type": "stream",
     "text": [
      "blue\n",
      "red\n",
      "green\n"
     ]
    }
   ],
   "source": [
    "colors = {'red', 'green', 'blue'}\n",
    "for color in colors: print(color)"
   ]
  },
  {
   "cell_type": "code",
   "execution_count": 5,
   "metadata": {},
   "outputs": [
    {
     "name": "stdout",
     "output_type": "stream",
     "text": [
      "name\n",
      "age\n",
      "grade\n",
      "\n",
      "some name\n",
      "123\n",
      "A\n"
     ]
    }
   ],
   "source": [
    "student = {\n",
    "    'name': 'some name',\n",
    "    'age': 123,\n",
    "    'grade': 'A'\n",
    "}\n",
    "\n",
    "for key in student: print(key)\n",
    "print()\n",
    "\n",
    "for key in student: print(student[key])"
   ]
  },
  {
   "cell_type": "code",
   "execution_count": 8,
   "metadata": {},
   "outputs": [
    {
     "name": "stdout",
     "output_type": "stream",
     "text": [
      "\n",
      "some\n",
      "multiline\n",
      "poem\n"
     ]
    },
    {
     "data": {
      "text/plain": [
       "'\\nsome\\nmultiline\\npoem'"
      ]
     },
     "execution_count": 8,
     "metadata": {},
     "output_type": "execute_result"
    }
   ],
   "source": [
    "poem = \"\"\"\n",
    "some\n",
    "multiline\n",
    "poem\"\"\"\n",
    "\n",
    "print(poem)\n",
    "poem"
   ]
  },
  {
   "cell_type": "code",
   "execution_count": 9,
   "metadata": {},
   "outputs": [],
   "source": [
    "if len(fruits) > 3:\n",
    "    print(\"Many fruits\")"
   ]
  },
  {
   "cell_type": "code",
   "execution_count": 16,
   "metadata": {},
   "outputs": [
    {
     "name": "stdout",
     "output_type": "stream",
     "text": [
      "Grade:  A\n"
     ]
    }
   ],
   "source": [
    "grade = int(input('Numerical Grade (0-100): '))\n",
    "\n",
    "letter = None\n",
    "if grade >= 90:\n",
    "    grade = 'A'\n",
    "elif grade >= 80:\n",
    "    grade = 'B'\n",
    "elif grade >= 70:\n",
    "    grade = 'C'\n",
    "elif grade >= 60:\n",
    "    grade = 'D'\n",
    "else:\n",
    "    grade = 'F'\n",
    "\n",
    "print('Grade: ', grade)"
   ]
  },
  {
   "cell_type": "code",
   "execution_count": 20,
   "metadata": {},
   "outputs": [
    {
     "name": "stdout",
     "output_type": "stream",
     "text": [
      "Hot\n"
     ]
    }
   ],
   "source": [
    "celsius = float(input('Celsius: '))\n",
    "\n",
    "cls = None\n",
    "if celsius < -10:\n",
    "    cls = 'Freezing'\n",
    "elif celsius < 0:\n",
    "    cls = 'Cold'\n",
    "elif celsius < 20:\n",
    "    cls = 'Moderate'\n",
    "elif celsius < 30:\n",
    "    cls = 'Warm'\n",
    "else:\n",
    "    cls = 'Hot'\n",
    "\n",
    "print(cls)"
   ]
  },
  {
   "cell_type": "code",
   "execution_count": null,
   "metadata": {},
   "outputs": [],
   "source": []
  }
 ],
 "metadata": {
  "kernelspec": {
   "display_name": "faiac",
   "language": "python",
   "name": "python3"
  },
  "language_info": {
   "codemirror_mode": {
    "name": "ipython",
    "version": 3
   },
   "file_extension": ".py",
   "mimetype": "text/x-python",
   "name": "python",
   "nbconvert_exporter": "python",
   "pygments_lexer": "ipython3",
   "version": "3.12.8"
  }
 },
 "nbformat": 4,
 "nbformat_minor": 2
}
